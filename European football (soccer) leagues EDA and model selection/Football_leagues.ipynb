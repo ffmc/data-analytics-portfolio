{
 "cells": [
  {
   "cell_type": "code",
   "execution_count": 1,
   "metadata": {},
   "outputs": [],
   "source": [
    "import pandas as pd\n",
    "import numpy as np\n",
    "import seaborn as sns\n",
    "import matplotlib as mpl\n",
    "import matplotlib.pyplot as plt"
   ]
  },
  {
   "cell_type": "markdown",
   "metadata": {},
   "source": [
    "Dataset containg data of the most important european leagues: La Liga, EPL, BundesLiga, Serie A, Ligue 1, RFPL\n",
    "\n",
    "By analysing the data we will try to anwser a few questions: \n",
    "\n",
    "With this dataset we can have more arguments in describing every league and can find answers to questions like:\n",
    "\n",
    "Which teams create more chances to score a goal?\n",
    "\n",
    "Which teams use pressure a lot and what results does this give?\n",
    "\n",
    "Which teams play more defensive/offensive football?\n",
    "\n",
    "Which teams have luck on their side, which do not?\n",
    "\n",
    "Is there any particular characteristic of each league?\n",
    "\n",
    "With this high overview dataset we can play a lot and understand more European football."
   ]
  },
  {
   "cell_type": "markdown",
   "metadata": {},
   "source": [
    "Data Dictionary:\n",
    "\n",
    "    xG - expected goals metric, it is a statistical measure of the quality of chances created and conceded. More at understat.com\n",
    "\n",
    "    xG_diff - difference between actual goals scored and expected goals.\n",
    "\n",
    "    npxG - expected goals without penalties and own goals.\n",
    "\n",
    "    xGA - expected goals against.\n",
    "\n",
    "    xGA_diff - difference between actual goals missed and expected goals against.\n",
    "\n",
    "    npxGA - expected goals against without penalties and own goals.\n",
    "\n",
    "    npxGD - difference between \"for\" and \"against\" expected goals without penalties and own goals.\n",
    "\n",
    "    ppda_coef - passes allowed per defensive action in the opposition half (power of pressure)\n",
    "\n",
    "    oppda_coef - opponent passes allowed per defensive action in the opposition half (power of opponent's pressure)\n",
    "\n",
    "    deep - passes completed within an estimated 20 yards of goal (crosses excluded)\n",
    "\n",
    "    deep_allowed - opponent passes completed within an estimated 20 yards of goal (crosses excluded)\n",
    "\n",
    "    xpts - expected points\n",
    "\n",
    "    xpts_diff - difference between actual and expected points\n"
   ]
  },
  {
   "cell_type": "code",
   "execution_count": 2,
   "metadata": {},
   "outputs": [
    {
     "name": "stdout",
     "output_type": "stream",
     "text": [
      "<class 'pandas.core.frame.DataFrame'>\n",
      "RangeIndex: 570 entries, 0 to 569\n",
      "Data columns (total 24 columns):\n",
      "Unnamed: 0      570 non-null object\n",
      "Unnamed: 1      570 non-null int64\n",
      "position        570 non-null int64\n",
      "team            570 non-null object\n",
      "matches         570 non-null int64\n",
      "wins            570 non-null int64\n",
      "draws           570 non-null int64\n",
      "loses           570 non-null int64\n",
      "scored          570 non-null int64\n",
      "missed          570 non-null int64\n",
      "pts             570 non-null int64\n",
      "xG              570 non-null float64\n",
      "xG_diff         570 non-null float64\n",
      "npxG            570 non-null float64\n",
      "xGA             570 non-null float64\n",
      "xGA_diff        570 non-null float64\n",
      "npxGA           570 non-null float64\n",
      "npxGD           570 non-null float64\n",
      "ppda_coef       570 non-null float64\n",
      "oppda_coef      570 non-null float64\n",
      "deep            570 non-null int64\n",
      "deep_allowed    570 non-null int64\n",
      "xpts            570 non-null float64\n",
      "xpts_diff       570 non-null float64\n",
      "dtypes: float64(11), int64(11), object(2)\n",
      "memory usage: 107.0+ KB\n"
     ]
    }
   ],
   "source": [
    "football = pd.read_csv('understat.com.csv', header =0)\n",
    "#The first rows of the data frame\n",
    "football.info()"
   ]
  },
  {
   "cell_type": "code",
   "execution_count": 3,
   "metadata": {},
   "outputs": [],
   "source": [
    "football = football.rename(columns={\"Unnamed: 0\": \"league\",})\n",
    "football = football.rename(columns={\"Unnamed: 1\": \"year\",})"
   ]
  },
  {
   "cell_type": "code",
   "execution_count": 4,
   "metadata": {},
   "outputs": [
    {
     "data": {
      "text/html": [
       "<div>\n",
       "<style scoped>\n",
       "    .dataframe tbody tr th:only-of-type {\n",
       "        vertical-align: middle;\n",
       "    }\n",
       "\n",
       "    .dataframe tbody tr th {\n",
       "        vertical-align: top;\n",
       "    }\n",
       "\n",
       "    .dataframe thead th {\n",
       "        text-align: right;\n",
       "    }\n",
       "</style>\n",
       "<table border=\"1\" class=\"dataframe\">\n",
       "  <thead>\n",
       "    <tr style=\"text-align: right;\">\n",
       "      <th></th>\n",
       "      <th>league</th>\n",
       "      <th>year</th>\n",
       "      <th>position</th>\n",
       "      <th>team</th>\n",
       "      <th>matches</th>\n",
       "      <th>wins</th>\n",
       "      <th>draws</th>\n",
       "      <th>loses</th>\n",
       "      <th>scored</th>\n",
       "      <th>missed</th>\n",
       "      <th>...</th>\n",
       "      <th>xGA</th>\n",
       "      <th>xGA_diff</th>\n",
       "      <th>npxGA</th>\n",
       "      <th>npxGD</th>\n",
       "      <th>ppda_coef</th>\n",
       "      <th>oppda_coef</th>\n",
       "      <th>deep</th>\n",
       "      <th>deep_allowed</th>\n",
       "      <th>xpts</th>\n",
       "      <th>xpts_diff</th>\n",
       "    </tr>\n",
       "  </thead>\n",
       "  <tbody>\n",
       "    <tr>\n",
       "      <td>565</td>\n",
       "      <td>Serie_A</td>\n",
       "      <td>2018</td>\n",
       "      <td>16</td>\n",
       "      <td>Parma Calcio 1913</td>\n",
       "      <td>38</td>\n",
       "      <td>10</td>\n",
       "      <td>11</td>\n",
       "      <td>17</td>\n",
       "      <td>41</td>\n",
       "      <td>61</td>\n",
       "      <td>...</td>\n",
       "      <td>64.981144</td>\n",
       "      <td>3.981144</td>\n",
       "      <td>58.890790</td>\n",
       "      <td>-21.598605</td>\n",
       "      <td>16.819575</td>\n",
       "      <td>7.936238</td>\n",
       "      <td>128</td>\n",
       "      <td>346</td>\n",
       "      <td>36.7845</td>\n",
       "      <td>-4.2155</td>\n",
       "    </tr>\n",
       "    <tr>\n",
       "      <td>566</td>\n",
       "      <td>Serie_A</td>\n",
       "      <td>2018</td>\n",
       "      <td>17</td>\n",
       "      <td>Genoa</td>\n",
       "      <td>38</td>\n",
       "      <td>8</td>\n",
       "      <td>14</td>\n",
       "      <td>16</td>\n",
       "      <td>39</td>\n",
       "      <td>57</td>\n",
       "      <td>...</td>\n",
       "      <td>56.354305</td>\n",
       "      <td>-0.645695</td>\n",
       "      <td>51.786555</td>\n",
       "      <td>-11.053906</td>\n",
       "      <td>12.171971</td>\n",
       "      <td>9.158080</td>\n",
       "      <td>235</td>\n",
       "      <td>255</td>\n",
       "      <td>44.6818</td>\n",
       "      <td>6.6818</td>\n",
       "    </tr>\n",
       "    <tr>\n",
       "      <td>567</td>\n",
       "      <td>Serie_A</td>\n",
       "      <td>2018</td>\n",
       "      <td>18</td>\n",
       "      <td>Empoli</td>\n",
       "      <td>38</td>\n",
       "      <td>10</td>\n",
       "      <td>8</td>\n",
       "      <td>20</td>\n",
       "      <td>51</td>\n",
       "      <td>70</td>\n",
       "      <td>...</td>\n",
       "      <td>63.327380</td>\n",
       "      <td>-6.672620</td>\n",
       "      <td>57.237067</td>\n",
       "      <td>-10.640657</td>\n",
       "      <td>14.096074</td>\n",
       "      <td>11.303252</td>\n",
       "      <td>292</td>\n",
       "      <td>265</td>\n",
       "      <td>46.5398</td>\n",
       "      <td>8.5398</td>\n",
       "    </tr>\n",
       "    <tr>\n",
       "      <td>568</td>\n",
       "      <td>Serie_A</td>\n",
       "      <td>2018</td>\n",
       "      <td>19</td>\n",
       "      <td>Frosinone</td>\n",
       "      <td>38</td>\n",
       "      <td>5</td>\n",
       "      <td>10</td>\n",
       "      <td>23</td>\n",
       "      <td>29</td>\n",
       "      <td>69</td>\n",
       "      <td>...</td>\n",
       "      <td>64.593669</td>\n",
       "      <td>-4.406331</td>\n",
       "      <td>60.787299</td>\n",
       "      <td>-28.490508</td>\n",
       "      <td>14.777899</td>\n",
       "      <td>9.125747</td>\n",
       "      <td>139</td>\n",
       "      <td>335</td>\n",
       "      <td>35.9425</td>\n",
       "      <td>10.9425</td>\n",
       "    </tr>\n",
       "    <tr>\n",
       "      <td>569</td>\n",
       "      <td>Serie_A</td>\n",
       "      <td>2018</td>\n",
       "      <td>20</td>\n",
       "      <td>Chievo</td>\n",
       "      <td>38</td>\n",
       "      <td>2</td>\n",
       "      <td>14</td>\n",
       "      <td>22</td>\n",
       "      <td>25</td>\n",
       "      <td>75</td>\n",
       "      <td>...</td>\n",
       "      <td>62.692868</td>\n",
       "      <td>-12.307132</td>\n",
       "      <td>59.480417</td>\n",
       "      <td>-27.571891</td>\n",
       "      <td>13.518123</td>\n",
       "      <td>11.513254</td>\n",
       "      <td>147</td>\n",
       "      <td>296</td>\n",
       "      <td>35.0001</td>\n",
       "      <td>15.0001</td>\n",
       "    </tr>\n",
       "  </tbody>\n",
       "</table>\n",
       "<p>5 rows × 24 columns</p>\n",
       "</div>"
      ],
      "text/plain": [
       "      league  year  position               team  matches  wins  draws  loses  \\\n",
       "565  Serie_A  2018        16  Parma Calcio 1913       38    10     11     17   \n",
       "566  Serie_A  2018        17              Genoa       38     8     14     16   \n",
       "567  Serie_A  2018        18             Empoli       38    10      8     20   \n",
       "568  Serie_A  2018        19          Frosinone       38     5     10     23   \n",
       "569  Serie_A  2018        20             Chievo       38     2     14     22   \n",
       "\n",
       "     scored  missed  ...        xGA   xGA_diff      npxGA      npxGD  \\\n",
       "565      41      61  ...  64.981144   3.981144  58.890790 -21.598605   \n",
       "566      39      57  ...  56.354305  -0.645695  51.786555 -11.053906   \n",
       "567      51      70  ...  63.327380  -6.672620  57.237067 -10.640657   \n",
       "568      29      69  ...  64.593669  -4.406331  60.787299 -28.490508   \n",
       "569      25      75  ...  62.692868 -12.307132  59.480417 -27.571891   \n",
       "\n",
       "     ppda_coef  oppda_coef  deep  deep_allowed     xpts  xpts_diff  \n",
       "565  16.819575    7.936238   128           346  36.7845    -4.2155  \n",
       "566  12.171971    9.158080   235           255  44.6818     6.6818  \n",
       "567  14.096074   11.303252   292           265  46.5398     8.5398  \n",
       "568  14.777899    9.125747   139           335  35.9425    10.9425  \n",
       "569  13.518123   11.513254   147           296  35.0001    15.0001  \n",
       "\n",
       "[5 rows x 24 columns]"
      ]
     },
     "execution_count": 4,
     "metadata": {},
     "output_type": "execute_result"
    }
   ],
   "source": [
    "football.tail()"
   ]
  },
  {
   "cell_type": "code",
   "execution_count": 5,
   "metadata": {},
   "outputs": [
    {
     "data": {
      "text/html": [
       "<div>\n",
       "<style scoped>\n",
       "    .dataframe tbody tr th:only-of-type {\n",
       "        vertical-align: middle;\n",
       "    }\n",
       "\n",
       "    .dataframe tbody tr th {\n",
       "        vertical-align: top;\n",
       "    }\n",
       "\n",
       "    .dataframe thead th {\n",
       "        text-align: right;\n",
       "    }\n",
       "</style>\n",
       "<table border=\"1\" class=\"dataframe\">\n",
       "  <thead>\n",
       "    <tr style=\"text-align: right;\">\n",
       "      <th></th>\n",
       "      <th>year</th>\n",
       "      <th>position</th>\n",
       "      <th>matches</th>\n",
       "      <th>wins</th>\n",
       "      <th>draws</th>\n",
       "      <th>loses</th>\n",
       "      <th>scored</th>\n",
       "      <th>missed</th>\n",
       "      <th>pts</th>\n",
       "      <th>xG</th>\n",
       "      <th>...</th>\n",
       "      <th>xGA</th>\n",
       "      <th>xGA_diff</th>\n",
       "      <th>npxGA</th>\n",
       "      <th>npxGD</th>\n",
       "      <th>ppda_coef</th>\n",
       "      <th>oppda_coef</th>\n",
       "      <th>deep</th>\n",
       "      <th>deep_allowed</th>\n",
       "      <th>xpts</th>\n",
       "      <th>xpts_diff</th>\n",
       "    </tr>\n",
       "  </thead>\n",
       "  <tbody>\n",
       "    <tr>\n",
       "      <td>count</td>\n",
       "      <td>570.000000</td>\n",
       "      <td>570.000000</td>\n",
       "      <td>570.000000</td>\n",
       "      <td>570.000000</td>\n",
       "      <td>570.000000</td>\n",
       "      <td>570.000000</td>\n",
       "      <td>570.000000</td>\n",
       "      <td>570.000000</td>\n",
       "      <td>570.000000</td>\n",
       "      <td>570.000000</td>\n",
       "      <td>...</td>\n",
       "      <td>570.000000</td>\n",
       "      <td>570.000000</td>\n",
       "      <td>570.000000</td>\n",
       "      <td>5.700000e+02</td>\n",
       "      <td>570.000000</td>\n",
       "      <td>570.000000</td>\n",
       "      <td>570.000000</td>\n",
       "      <td>570.000000</td>\n",
       "      <td>570.000000</td>\n",
       "      <td>570.000000</td>\n",
       "    </tr>\n",
       "    <tr>\n",
       "      <td>mean</td>\n",
       "      <td>2016.000000</td>\n",
       "      <td>10.061404</td>\n",
       "      <td>36.245614</td>\n",
       "      <td>13.531579</td>\n",
       "      <td>9.182456</td>\n",
       "      <td>13.531579</td>\n",
       "      <td>48.385965</td>\n",
       "      <td>48.385965</td>\n",
       "      <td>49.777193</td>\n",
       "      <td>46.957947</td>\n",
       "      <td>...</td>\n",
       "      <td>46.957947</td>\n",
       "      <td>-1.428018</td>\n",
       "      <td>42.881170</td>\n",
       "      <td>1.495879e-16</td>\n",
       "      <td>10.735848</td>\n",
       "      <td>10.735848</td>\n",
       "      <td>209.524561</td>\n",
       "      <td>209.524561</td>\n",
       "      <td>49.939568</td>\n",
       "      <td>0.162375</td>\n",
       "    </tr>\n",
       "    <tr>\n",
       "      <td>std</td>\n",
       "      <td>1.415456</td>\n",
       "      <td>5.580982</td>\n",
       "      <td>2.906152</td>\n",
       "      <td>5.935200</td>\n",
       "      <td>2.927064</td>\n",
       "      <td>5.540700</td>\n",
       "      <td>17.634599</td>\n",
       "      <td>13.844167</td>\n",
       "      <td>17.051184</td>\n",
       "      <td>14.464017</td>\n",
       "      <td>...</td>\n",
       "      <td>11.625214</td>\n",
       "      <td>6.672813</td>\n",
       "      <td>10.826301</td>\n",
       "      <td>1.935850e+01</td>\n",
       "      <td>2.480779</td>\n",
       "      <td>3.284070</td>\n",
       "      <td>84.037695</td>\n",
       "      <td>52.899483</td>\n",
       "      <td>13.540545</td>\n",
       "      <td>7.218713</td>\n",
       "    </tr>\n",
       "    <tr>\n",
       "      <td>min</td>\n",
       "      <td>2014.000000</td>\n",
       "      <td>1.000000</td>\n",
       "      <td>30.000000</td>\n",
       "      <td>2.000000</td>\n",
       "      <td>2.000000</td>\n",
       "      <td>1.000000</td>\n",
       "      <td>13.000000</td>\n",
       "      <td>15.000000</td>\n",
       "      <td>13.000000</td>\n",
       "      <td>15.064491</td>\n",
       "      <td>...</td>\n",
       "      <td>16.838674</td>\n",
       "      <td>-29.175087</td>\n",
       "      <td>16.084399</td>\n",
       "      <td>-4.220877e+01</td>\n",
       "      <td>5.683535</td>\n",
       "      <td>4.394458</td>\n",
       "      <td>76.000000</td>\n",
       "      <td>83.000000</td>\n",
       "      <td>17.907700</td>\n",
       "      <td>-24.531500</td>\n",
       "    </tr>\n",
       "    <tr>\n",
       "      <td>25%</td>\n",
       "      <td>2015.000000</td>\n",
       "      <td>5.000000</td>\n",
       "      <td>34.000000</td>\n",
       "      <td>9.000000</td>\n",
       "      <td>7.000000</td>\n",
       "      <td>10.000000</td>\n",
       "      <td>36.000000</td>\n",
       "      <td>39.000000</td>\n",
       "      <td>38.000000</td>\n",
       "      <td>37.294168</td>\n",
       "      <td>...</td>\n",
       "      <td>39.361073</td>\n",
       "      <td>-6.100234</td>\n",
       "      <td>35.789070</td>\n",
       "      <td>-1.320242e+01</td>\n",
       "      <td>9.008791</td>\n",
       "      <td>8.653570</td>\n",
       "      <td>153.000000</td>\n",
       "      <td>171.000000</td>\n",
       "      <td>40.426425</td>\n",
       "      <td>-4.480550</td>\n",
       "    </tr>\n",
       "    <tr>\n",
       "      <td>50%</td>\n",
       "      <td>2016.000000</td>\n",
       "      <td>10.000000</td>\n",
       "      <td>38.000000</td>\n",
       "      <td>12.000000</td>\n",
       "      <td>9.000000</td>\n",
       "      <td>14.000000</td>\n",
       "      <td>45.000000</td>\n",
       "      <td>49.000000</td>\n",
       "      <td>46.500000</td>\n",
       "      <td>44.600600</td>\n",
       "      <td>...</td>\n",
       "      <td>47.336579</td>\n",
       "      <td>-1.202018</td>\n",
       "      <td>43.117482</td>\n",
       "      <td>-3.202510e+00</td>\n",
       "      <td>10.408070</td>\n",
       "      <td>10.192134</td>\n",
       "      <td>187.000000</td>\n",
       "      <td>206.000000</td>\n",
       "      <td>47.411750</td>\n",
       "      <td>0.218650</td>\n",
       "    </tr>\n",
       "    <tr>\n",
       "      <td>75%</td>\n",
       "      <td>2017.000000</td>\n",
       "      <td>15.000000</td>\n",
       "      <td>38.000000</td>\n",
       "      <td>17.000000</td>\n",
       "      <td>11.000000</td>\n",
       "      <td>17.000000</td>\n",
       "      <td>56.000000</td>\n",
       "      <td>57.000000</td>\n",
       "      <td>60.000000</td>\n",
       "      <td>53.788473</td>\n",
       "      <td>...</td>\n",
       "      <td>54.619647</td>\n",
       "      <td>3.200394</td>\n",
       "      <td>50.214848</td>\n",
       "      <td>9.843395e+00</td>\n",
       "      <td>12.211141</td>\n",
       "      <td>11.971695</td>\n",
       "      <td>243.000000</td>\n",
       "      <td>246.000000</td>\n",
       "      <td>57.330075</td>\n",
       "      <td>4.802800</td>\n",
       "    </tr>\n",
       "    <tr>\n",
       "      <td>max</td>\n",
       "      <td>2018.000000</td>\n",
       "      <td>20.000000</td>\n",
       "      <td>38.000000</td>\n",
       "      <td>32.000000</td>\n",
       "      <td>18.000000</td>\n",
       "      <td>29.000000</td>\n",
       "      <td>118.000000</td>\n",
       "      <td>94.000000</td>\n",
       "      <td>100.000000</td>\n",
       "      <td>113.598270</td>\n",
       "      <td>...</td>\n",
       "      <td>78.863255</td>\n",
       "      <td>15.540152</td>\n",
       "      <td>72.013818</td>\n",
       "      <td>7.304931e+01</td>\n",
       "      <td>20.304275</td>\n",
       "      <td>30.468113</td>\n",
       "      <td>582.000000</td>\n",
       "      <td>364.000000</td>\n",
       "      <td>94.380000</td>\n",
       "      <td>23.047500</td>\n",
       "    </tr>\n",
       "  </tbody>\n",
       "</table>\n",
       "<p>8 rows × 22 columns</p>\n",
       "</div>"
      ],
      "text/plain": [
       "              year    position     matches        wins       draws  \\\n",
       "count   570.000000  570.000000  570.000000  570.000000  570.000000   \n",
       "mean   2016.000000   10.061404   36.245614   13.531579    9.182456   \n",
       "std       1.415456    5.580982    2.906152    5.935200    2.927064   \n",
       "min    2014.000000    1.000000   30.000000    2.000000    2.000000   \n",
       "25%    2015.000000    5.000000   34.000000    9.000000    7.000000   \n",
       "50%    2016.000000   10.000000   38.000000   12.000000    9.000000   \n",
       "75%    2017.000000   15.000000   38.000000   17.000000   11.000000   \n",
       "max    2018.000000   20.000000   38.000000   32.000000   18.000000   \n",
       "\n",
       "            loses      scored      missed         pts          xG  ...  \\\n",
       "count  570.000000  570.000000  570.000000  570.000000  570.000000  ...   \n",
       "mean    13.531579   48.385965   48.385965   49.777193   46.957947  ...   \n",
       "std      5.540700   17.634599   13.844167   17.051184   14.464017  ...   \n",
       "min      1.000000   13.000000   15.000000   13.000000   15.064491  ...   \n",
       "25%     10.000000   36.000000   39.000000   38.000000   37.294168  ...   \n",
       "50%     14.000000   45.000000   49.000000   46.500000   44.600600  ...   \n",
       "75%     17.000000   56.000000   57.000000   60.000000   53.788473  ...   \n",
       "max     29.000000  118.000000   94.000000  100.000000  113.598270  ...   \n",
       "\n",
       "              xGA    xGA_diff       npxGA         npxGD   ppda_coef  \\\n",
       "count  570.000000  570.000000  570.000000  5.700000e+02  570.000000   \n",
       "mean    46.957947   -1.428018   42.881170  1.495879e-16   10.735848   \n",
       "std     11.625214    6.672813   10.826301  1.935850e+01    2.480779   \n",
       "min     16.838674  -29.175087   16.084399 -4.220877e+01    5.683535   \n",
       "25%     39.361073   -6.100234   35.789070 -1.320242e+01    9.008791   \n",
       "50%     47.336579   -1.202018   43.117482 -3.202510e+00   10.408070   \n",
       "75%     54.619647    3.200394   50.214848  9.843395e+00   12.211141   \n",
       "max     78.863255   15.540152   72.013818  7.304931e+01   20.304275   \n",
       "\n",
       "       oppda_coef        deep  deep_allowed        xpts   xpts_diff  \n",
       "count  570.000000  570.000000    570.000000  570.000000  570.000000  \n",
       "mean    10.735848  209.524561    209.524561   49.939568    0.162375  \n",
       "std      3.284070   84.037695     52.899483   13.540545    7.218713  \n",
       "min      4.394458   76.000000     83.000000   17.907700  -24.531500  \n",
       "25%      8.653570  153.000000    171.000000   40.426425   -4.480550  \n",
       "50%     10.192134  187.000000    206.000000   47.411750    0.218650  \n",
       "75%     11.971695  243.000000    246.000000   57.330075    4.802800  \n",
       "max     30.468113  582.000000    364.000000   94.380000   23.047500  \n",
       "\n",
       "[8 rows x 22 columns]"
      ]
     },
     "execution_count": 5,
     "metadata": {},
     "output_type": "execute_result"
    }
   ],
   "source": [
    "football.describe()"
   ]
  },
  {
   "cell_type": "code",
   "execution_count": 6,
   "metadata": {},
   "outputs": [
    {
     "name": "stdout",
     "output_type": "stream",
     "text": [
      "<class 'pandas.core.frame.DataFrame'>\n",
      "RangeIndex: 570 entries, 0 to 569\n",
      "Data columns (total 24 columns):\n",
      "league          570 non-null object\n",
      "year            570 non-null int64\n",
      "position        570 non-null int64\n",
      "team            570 non-null object\n",
      "matches         570 non-null int64\n",
      "wins            570 non-null int64\n",
      "draws           570 non-null int64\n",
      "loses           570 non-null int64\n",
      "scored          570 non-null int64\n",
      "missed          570 non-null int64\n",
      "pts             570 non-null int64\n",
      "xG              570 non-null float64\n",
      "xG_diff         570 non-null float64\n",
      "npxG            570 non-null float64\n",
      "xGA             570 non-null float64\n",
      "xGA_diff        570 non-null float64\n",
      "npxGA           570 non-null float64\n",
      "npxGD           570 non-null float64\n",
      "ppda_coef       570 non-null float64\n",
      "oppda_coef      570 non-null float64\n",
      "deep            570 non-null int64\n",
      "deep_allowed    570 non-null int64\n",
      "xpts            570 non-null float64\n",
      "xpts_diff       570 non-null float64\n",
      "dtypes: float64(11), int64(11), object(2)\n",
      "memory usage: 107.0+ KB\n"
     ]
    }
   ],
   "source": [
    "football.info()"
   ]
  },
  {
   "cell_type": "code",
   "execution_count": 7,
   "metadata": {},
   "outputs": [
    {
     "data": {
      "text/plain": [
       "league          0\n",
       "year            0\n",
       "position        0\n",
       "team            0\n",
       "matches         0\n",
       "wins            0\n",
       "draws           0\n",
       "loses           0\n",
       "scored          0\n",
       "missed          0\n",
       "pts             0\n",
       "xG              0\n",
       "xG_diff         0\n",
       "npxG            0\n",
       "xGA             0\n",
       "xGA_diff        0\n",
       "npxGA           0\n",
       "npxGD           0\n",
       "ppda_coef       0\n",
       "oppda_coef      0\n",
       "deep            0\n",
       "deep_allowed    0\n",
       "xpts            0\n",
       "xpts_diff       0\n",
       "dtype: int64"
      ]
     },
     "execution_count": 7,
     "metadata": {},
     "output_type": "execute_result"
    }
   ],
   "source": [
    "#Counts the NAs\n",
    "football.isna().sum()"
   ]
  },
  {
   "cell_type": "code",
   "execution_count": 8,
   "metadata": {},
   "outputs": [],
   "source": [
    "EPL= football[(football.league == 'EPL')]"
   ]
  },
  {
   "cell_type": "code",
   "execution_count": 9,
   "metadata": {},
   "outputs": [],
   "source": [
    "#Subsetting into the 5 diferent leagues\n",
    "BUN= football[(football.league == 'Bundesliga')]\n",
    "LAL= football[(football.league == 'La_liga')] \n",
    "LI1= football[(football.league == 'Ligue_1')] \n",
    "RPL= football[(football.league == 'RFPL')]"
   ]
  },
  {
   "cell_type": "code",
   "execution_count": 10,
   "metadata": {},
   "outputs": [],
   "source": [
    "#lets calculate the number of goals per game of each league. This way we can have an idea of which can be the most entertaining in tearms of goals socored. \n",
    "EPL_goals_match = EPL.loc[:,\"scored\"]/EPL.loc[:,\"matches\"]\n",
    "#Calculate its mean\n",
    "EPL_goals_match_avg = EPL_goals_match.mean()"
   ]
  },
  {
   "cell_type": "code",
   "execution_count": 11,
   "metadata": {},
   "outputs": [],
   "source": [
    "#Lets repeat the process for the other leagues\n",
    "#Bundesliga\n",
    "BUN_goals_match = BUN.loc[:,\"scored\"]/BUN.loc[:,\"matches\"]\n",
    "#Calculate its mean\n",
    "BUN_goals_match_avg=BUN_goals_match.mean()\n"
   ]
  },
  {
   "cell_type": "code",
   "execution_count": 12,
   "metadata": {},
   "outputs": [],
   "source": [
    "#LaLiga\n",
    "LAL_goals_match = LAL.loc[:,\"scored\"]/LAL.loc[:,\"matches\"]\n",
    "#Calculate its mean\n",
    "LAL_goals_match_avg=LAL_goals_match.mean()"
   ]
  },
  {
   "cell_type": "code",
   "execution_count": 13,
   "metadata": {},
   "outputs": [],
   "source": [
    "#Ligue1\n",
    "LI1_goals_match = LI1.loc[:,\"scored\"]/LI1.loc[:,\"matches\"]\n",
    "#Calculate its mean\n",
    "LI1_goals_match_avg=LI1_goals_match.mean()"
   ]
  },
  {
   "cell_type": "code",
   "execution_count": 14,
   "metadata": {},
   "outputs": [],
   "source": [
    "#Russian Premier League\n",
    "RPL_goals_match = RPL.loc[:,\"scored\"]/RPL.loc[:,\"matches\"]\n",
    "#Calculate its mean\n",
    "RPL_goals_match_avg=RPL_goals_match.mean()"
   ]
  },
  {
   "cell_type": "code",
   "execution_count": 15,
   "metadata": {},
   "outputs": [],
   "source": [
    "#Lets combining that information into one dataframe\n",
    "Leagues_goal_avg= pd.DataFrame([EPL_goals_match_avg,BUN_goals_match_avg,LAL_goals_match_avg,LI1_goals_match_avg,RPL_goals_match_avg])\n",
    "league = ['EPL', 'BUN','LAL','LI1','RPL']\n",
    "Leagues_goal_avg['league']= league"
   ]
  },
  {
   "cell_type": "code",
   "execution_count": 16,
   "metadata": {},
   "outputs": [],
   "source": [
    "#Change names and order of the columns\n",
    "Leagues_goal_avg.columns = ['average', 'league']\n",
    "Leagues_goal_avg = Leagues_goal_avg[['league', 'average']]"
   ]
  },
  {
   "cell_type": "code",
   "execution_count": 17,
   "metadata": {},
   "outputs": [
    {
     "data": {
      "text/html": [
       "<div>\n",
       "<style scoped>\n",
       "    .dataframe tbody tr th:only-of-type {\n",
       "        vertical-align: middle;\n",
       "    }\n",
       "\n",
       "    .dataframe tbody tr th {\n",
       "        vertical-align: top;\n",
       "    }\n",
       "\n",
       "    .dataframe thead th {\n",
       "        text-align: right;\n",
       "    }\n",
       "</style>\n",
       "<table border=\"1\" class=\"dataframe\">\n",
       "  <thead>\n",
       "    <tr style=\"text-align: right;\">\n",
       "      <th></th>\n",
       "      <th>league</th>\n",
       "      <th>average</th>\n",
       "    </tr>\n",
       "  </thead>\n",
       "  <tbody>\n",
       "    <tr>\n",
       "      <td>0</td>\n",
       "      <td>EPL</td>\n",
       "      <td>1.356579</td>\n",
       "    </tr>\n",
       "    <tr>\n",
       "      <td>1</td>\n",
       "      <td>BUN</td>\n",
       "      <td>1.442484</td>\n",
       "    </tr>\n",
       "    <tr>\n",
       "      <td>2</td>\n",
       "      <td>LAL</td>\n",
       "      <td>1.362368</td>\n",
       "    </tr>\n",
       "    <tr>\n",
       "      <td>3</td>\n",
       "      <td>LI1</td>\n",
       "      <td>1.291053</td>\n",
       "    </tr>\n",
       "    <tr>\n",
       "      <td>4</td>\n",
       "      <td>RPL</td>\n",
       "      <td>1.152500</td>\n",
       "    </tr>\n",
       "  </tbody>\n",
       "</table>\n",
       "</div>"
      ],
      "text/plain": [
       "  league   average\n",
       "0    EPL  1.356579\n",
       "1    BUN  1.442484\n",
       "2    LAL  1.362368\n",
       "3    LI1  1.291053\n",
       "4    RPL  1.152500"
      ]
     },
     "execution_count": 17,
     "metadata": {},
     "output_type": "execute_result"
    }
   ],
   "source": [
    "Leagues_goal_avg"
   ]
  },
  {
   "cell_type": "code",
   "execution_count": 18,
   "metadata": {},
   "outputs": [
    {
     "data": {
      "text/plain": [
       "<seaborn.axisgrid.FacetGrid at 0x2a21b971e80>"
      ]
     },
     "execution_count": 18,
     "metadata": {},
     "output_type": "execute_result"
    },
    {
     "data": {
      "image/png": "[encoded data removed]",
      "text/plain": [
       "<Figure size 566.85x504 with 1 Axes>"
      ]
     },
     "metadata": {},
     "output_type": "display_data"
    }
   ],
   "source": [
    "#Sorting out the data ascending\n",
    "Leagues_goal_avg = Leagues_goal_avg.sort_values('average', ascending = False)\n",
    "sns.set(style=\"whitegrid\")\n",
    "league_colors = [\"#3D195B\", \"#ca1f58\", \"#000000\", \"#dbe126\",\"#0081c6\"]\n",
    "sns.set_palette(sns.color_palette(league_colors ))\n",
    "# Draw a nested barplot to show survival for class and sex\n",
    "leagues_plot = sns.catplot(x=\"average\", y=\"league\", hue=\"league\", data=Leagues_goal_avg,\n",
    "                height=7, kind=\"bar\")\n",
    "leagues_plot.despine(left=True)\n",
    "leagues_plot.set_ylabels(\"League Goal Average Per game\")"
   ]
  },
  {
   "cell_type": "markdown",
   "metadata": {},
   "source": [
    "As we can see on the graph above BUN is the ones with more goals per game followed by EPL and LAL. If you want to see goals, BUN is your league."
   ]
  },
  {
   "cell_type": "markdown",
   "metadata": {},
   "source": [
    "But is not only about goals that the league is made of, the chances are also important and entertaining for the spectator. Lets analyse the xG which is a statistical measure of the quality of chances created and conceded, and gives us an idea of which league has more chances around the goal."
   ]
  },
  {
   "cell_type": "code",
   "execution_count": 19,
   "metadata": {},
   "outputs": [],
   "source": [
    "#Subsetting xG per league and calculating mean\n",
    "EPL_xG_mean= EPL['xG'].mean()\n",
    "BUN_xG_mean= BUN['xG'].mean()\n",
    "LAL_xG_mean= LAL['xG'].mean()\n",
    "LI1_xG_mean= LI1['xG'].mean()\n",
    "RPL_xG_mean= RPL['xG'].mean()\n"
   ]
  },
  {
   "cell_type": "code",
   "execution_count": 20,
   "metadata": {},
   "outputs": [],
   "source": [
    "#Lets add this new values to our previously created table\n",
    "xG_league = [EPL_xG_mean,BUN_xG_mean,LAL_xG_mean,LI1_xG_mean,RPL_xG_mean]\n",
    "xG_league = pd.Series(xG_league)\n",
    "Leagues_goal_xG = pd.DataFrame(Leagues_goal_avg)\n",
    "Leagues_goal_xG.loc[:,2] = xG_league \n",
    "Leagues_goal_xG.columns = ['league', 'average', 'xG']\n",
    "Leagues_goal_xG = Leagues_goal_xG[['league', 'average', 'xG']]"
   ]
  },
  {
   "cell_type": "code",
   "execution_count": 21,
   "metadata": {},
   "outputs": [
    {
     "data": {
      "text/html": [
       "<div>\n",
       "<style scoped>\n",
       "    .dataframe tbody tr th:only-of-type {\n",
       "        vertical-align: middle;\n",
       "    }\n",
       "\n",
       "    .dataframe tbody tr th {\n",
       "        vertical-align: top;\n",
       "    }\n",
       "\n",
       "    .dataframe thead th {\n",
       "        text-align: right;\n",
       "    }\n",
       "</style>\n",
       "<table border=\"1\" class=\"dataframe\">\n",
       "  <thead>\n",
       "    <tr style=\"text-align: right;\">\n",
       "      <th></th>\n",
       "      <th>league</th>\n",
       "      <th>average</th>\n",
       "      <th>xG</th>\n",
       "    </tr>\n",
       "  </thead>\n",
       "  <tbody>\n",
       "    <tr>\n",
       "      <td>1</td>\n",
       "      <td>BUN</td>\n",
       "      <td>1.442484</td>\n",
       "      <td>47.802673</td>\n",
       "    </tr>\n",
       "    <tr>\n",
       "      <td>2</td>\n",
       "      <td>LAL</td>\n",
       "      <td>1.362368</td>\n",
       "      <td>50.980721</td>\n",
       "    </tr>\n",
       "    <tr>\n",
       "      <td>0</td>\n",
       "      <td>EPL</td>\n",
       "      <td>1.356579</td>\n",
       "      <td>50.082649</td>\n",
       "    </tr>\n",
       "    <tr>\n",
       "      <td>3</td>\n",
       "      <td>LI1</td>\n",
       "      <td>1.291053</td>\n",
       "      <td>47.280538</td>\n",
       "    </tr>\n",
       "    <tr>\n",
       "      <td>4</td>\n",
       "      <td>RPL</td>\n",
       "      <td>1.152500</td>\n",
       "      <td>32.821028</td>\n",
       "    </tr>\n",
       "  </tbody>\n",
       "</table>\n",
       "</div>"
      ],
      "text/plain": [
       "  league   average         xG\n",
       "1    BUN  1.442484  47.802673\n",
       "2    LAL  1.362368  50.980721\n",
       "0    EPL  1.356579  50.082649\n",
       "3    LI1  1.291053  47.280538\n",
       "4    RPL  1.152500  32.821028"
      ]
     },
     "execution_count": 21,
     "metadata": {},
     "output_type": "execute_result"
    }
   ],
   "source": [
    "Leagues_goal_xG"
   ]
  },
  {
   "cell_type": "code",
   "execution_count": 22,
   "metadata": {},
   "outputs": [
    {
     "data": {
      "text/html": [
       "<div>\n",
       "<style scoped>\n",
       "    .dataframe tbody tr th:only-of-type {\n",
       "        vertical-align: middle;\n",
       "    }\n",
       "\n",
       "    .dataframe tbody tr th {\n",
       "        vertical-align: top;\n",
       "    }\n",
       "\n",
       "    .dataframe thead th {\n",
       "        text-align: right;\n",
       "    }\n",
       "</style>\n",
       "<table border=\"1\" class=\"dataframe\">\n",
       "  <thead>\n",
       "    <tr style=\"text-align: right;\">\n",
       "      <th></th>\n",
       "      <th>league</th>\n",
       "      <th>average</th>\n",
       "      <th>xG</th>\n",
       "      <th>sum</th>\n",
       "    </tr>\n",
       "  </thead>\n",
       "  <tbody>\n",
       "    <tr>\n",
       "      <td>1</td>\n",
       "      <td>BUN</td>\n",
       "      <td>1.442484</td>\n",
       "      <td>47.802673</td>\n",
       "      <td>49.245156</td>\n",
       "    </tr>\n",
       "    <tr>\n",
       "      <td>2</td>\n",
       "      <td>LAL</td>\n",
       "      <td>1.362368</td>\n",
       "      <td>50.980721</td>\n",
       "      <td>52.343090</td>\n",
       "    </tr>\n",
       "    <tr>\n",
       "      <td>0</td>\n",
       "      <td>EPL</td>\n",
       "      <td>1.356579</td>\n",
       "      <td>50.082649</td>\n",
       "      <td>51.439228</td>\n",
       "    </tr>\n",
       "    <tr>\n",
       "      <td>3</td>\n",
       "      <td>LI1</td>\n",
       "      <td>1.291053</td>\n",
       "      <td>47.280538</td>\n",
       "      <td>48.571591</td>\n",
       "    </tr>\n",
       "    <tr>\n",
       "      <td>4</td>\n",
       "      <td>RPL</td>\n",
       "      <td>1.152500</td>\n",
       "      <td>32.821028</td>\n",
       "      <td>33.973528</td>\n",
       "    </tr>\n",
       "  </tbody>\n",
       "</table>\n",
       "</div>"
      ],
      "text/plain": [
       "  league   average         xG        sum\n",
       "1    BUN  1.442484  47.802673  49.245156\n",
       "2    LAL  1.362368  50.980721  52.343090\n",
       "0    EPL  1.356579  50.082649  51.439228\n",
       "3    LI1  1.291053  47.280538  48.571591\n",
       "4    RPL  1.152500  32.821028  33.973528"
      ]
     },
     "execution_count": 22,
     "metadata": {},
     "output_type": "execute_result"
    }
   ],
   "source": [
    "#Now, instead of creating a stack plot bar, lets sum the values of xG with average goals\n",
    "Leagues_goal_xG['sum'] = Leagues_goal_xG.average + Leagues_goal_xG.xG\n",
    "Leagues_goal_xG"
   ]
  },
  {
   "cell_type": "code",
   "execution_count": 23,
   "metadata": {},
   "outputs": [
    {
     "data": {
      "text/plain": [
       "<seaborn.axisgrid.FacetGrid at 0x2a21cd70748>"
      ]
     },
     "execution_count": 23,
     "metadata": {},
     "output_type": "execute_result"
    },
    {
     "data": {
      "image/png": "[encoded data removed]",
      "text/plain": [
       "<Figure size 566.85x504 with 1 Axes>"
      ]
     },
     "metadata": {},
     "output_type": "display_data"
    }
   ],
   "source": [
    "#Now that we have our table we can create a graph with the xG and the average goals per game\n",
    "#Sorting out the data ascending\n",
    "Leagues_goal_xG = Leagues_goal_xG.sort_values('sum', ascending = False)\n",
    "import seaborn as sns\n",
    "sns.set(style=\"whitegrid\")\n",
    "league_colors = [\"#3D195B\", \"#ca1f58\", \"#000000\", \"#dbe126\",\"#0081c6\"]\n",
    "sns.set_palette(sns.color_palette(league_colors ))\n",
    "# Draw a nested barplot to show survival for class and sex\n",
    "\n",
    "g = sns.catplot(x=\"sum\", y=\"league\", hue=\"league\", data=Leagues_goal_xG,\n",
    "                 height=7, kind=\"bar\")\n",
    "g.despine(left=True)\n",
    "g.set_ylabels(\"Level of league entertainment\")"
   ]
  },
  {
   "cell_type": "markdown",
   "metadata": {},
   "source": [
    "As we can see from the graph above, LAL is the most entertaining league since on the overall metrics of goals per game and chances created, it's the most interesting league. "
   ]
  },
  {
   "cell_type": "code",
   "execution_count": 24,
   "metadata": {},
   "outputs": [
    {
     "data": {
      "text/plain": [
       "team\n",
       "Manchester City            81.403789\n",
       "Arsenal                    68.795897\n",
       "Liverpool                  65.927621\n",
       "Tottenham                  63.305835\n",
       "Chelsea                    61.609724\n",
       "Manchester United          56.972668\n",
       "Wolverhampton Wanderers    53.058692\n",
       "Leicester                  52.673227\n",
       "Southampton                50.540573\n",
       "Everton                    49.215071\n",
       "Crystal Palace             48.011779\n",
       "Bournemouth                46.881683\n",
       "West Ham                   46.819043\n",
       "Queens Park Rangers        45.726091\n",
       "Watford                    44.258792\n",
       "Stoke                      43.378863\n",
       "Fulham                     42.621864\n",
       "Cardiff                    41.769727\n",
       "Newcastle United           40.590826\n",
       "Norwich                    39.187494\n",
       "Burnley                    38.119328\n",
       "West Bromwich Albion       37.944655\n",
       "Swansea                    37.518126\n",
       "Sunderland                 37.395668\n",
       "Brighton                   37.121142\n",
       "Hull                       33.315263\n",
       "Middlesbrough              30.930126\n",
       "Huddersfield               30.568053\n",
       "Aston Villa                29.814865\n",
       "Name: xG, dtype: float64"
      ]
     },
     "execution_count": 24,
     "metadata": {},
     "output_type": "execute_result"
    }
   ],
   "source": [
    "#Let's now analyse the best teams of each league, in other words, the reams that crete more chances. Starting by the EPL.\n",
    "EPL_team_xG_mean = EPL.groupby('team')['xG'].mean() \n",
    "EPL_team_xG_mean.sort_values(ascending=False)"
   ]
  },
  {
   "cell_type": "code",
   "execution_count": 25,
   "metadata": {},
   "outputs": [
    {
     "name": "stdout",
     "output_type": "stream",
     "text": [
      "<class 'pandas.core.frame.DataFrame'>\n",
      "RangeIndex: 29 entries, 0 to 28\n",
      "Data columns (total 2 columns):\n",
      "team    29 non-null object\n",
      "xG      29 non-null float64\n",
      "dtypes: float64(1), object(1)\n",
      "memory usage: 592.0+ bytes\n"
     ]
    }
   ],
   "source": [
    "EPL_team_xG_mean =EPL_team_xG_mean.to_frame()\n",
    "EPL_team_xG_mean.reset_index(level=0, inplace=True)\n",
    "EPL_team_xG_mean.info()"
   ]
  },
  {
   "cell_type": "code",
   "execution_count": 26,
   "metadata": {},
   "outputs": [],
   "source": [
    "#Sorting out the data ascending and selecting the top 10\n",
    "bestteamsEPL = EPL_team_xG_mean.sort_values('xG', ascending = False)\n",
    "bestteamsEPL = bestteamsEPL.head(5)"
   ]
  },
  {
   "cell_type": "code",
   "execution_count": 27,
   "metadata": {},
   "outputs": [
    {
     "data": {
      "text/plain": [
       "<matplotlib.axes._subplots.AxesSubplot at 0x2a21cf1a4e0>"
      ]
     },
     "execution_count": 27,
     "metadata": {},
     "output_type": "execute_result"
    },
    {
     "data": {
      "image/png": "[encoded data removed]",
      "text/plain": [
       "<Figure size 216x504 with 1 Axes>"
      ]
     },
     "metadata": {},
     "output_type": "display_data"
    }
   ],
   "source": [
    "#Creating a plotbar eith Xg \n",
    "sns.set(style=\"whitegrid\")\n",
    "f, ax = plt.subplots(figsize=(3, 7))\n",
    "sns.barplot(x=\"xG\", y=\"team\", data=bestteamsEPL,\n",
    "            label=\"Total\", palette = 'cubehelix')"
   ]
  },
  {
   "cell_type": "markdown",
   "metadata": {},
   "source": [
    "As we can see, on the EPL, Man. City is the team with more quality of chances to score goals. But lets have an overview on the global results of each league. \n",
    "Let's find out which league as the hightest ratio of goals per match. "
   ]
  },
  {
   "cell_type": "code",
   "execution_count": 28,
   "metadata": {},
   "outputs": [],
   "source": [
    "#The same procedure for La Liga"
   ]
  },
  {
   "cell_type": "code",
   "execution_count": 29,
   "metadata": {},
   "outputs": [],
   "source": [
    "LAL_team_xG_mean = LAL.groupby('team')['xG'].mean() \n",
    "LAL_team_xG_mean.sort_values(ascending=False)\n",
    "LAL_team_xG_mean =LAL_team_xG_mean.to_frame()\n",
    "LAL_team_xG_mean.reset_index(level=0, inplace=True)\n",
    "#Sorting out the data ascending and selecting the top 10\n",
    "bestteamsLAL = LAL_team_xG_mean.sort_values('xG', ascending = False)\n",
    "bestteamsLAL = bestteamsLAL.head(5)"
   ]
  },
  {
   "cell_type": "code",
   "execution_count": 30,
   "metadata": {},
   "outputs": [
    {
     "data": {
      "text/plain": [
       "<matplotlib.axes._subplots.AxesSubplot at 0x2a21d0c85c0>"
      ]
     },
     "execution_count": 30,
     "metadata": {},
     "output_type": "execute_result"
    },
    {
     "data": {
      "image/png": "[encoded data removed]",
      "text/plain": [
       "<Figure size 216x504 with 1 Axes>"
      ]
     },
     "metadata": {},
     "output_type": "display_data"
    }
   ],
   "source": [
    "#Creating a plotbar eith Xg \n",
    "sns.set(style=\"whitegrid\")\n",
    "f, ax = plt.subplots(figsize=(3, 7))\n",
    "sns.barplot(x=\"xG\", y=\"team\", data=bestteamsLAL,\n",
    "            label=\"Total\", palette = 'Set3' )"
   ]
  },
  {
   "cell_type": "markdown",
   "metadata": {},
   "source": [
    "The results are clear, in La Liga the two dominant teams are Barcelona and Real Madrid which have a clear advantage on the number of chances cretead compared with the other teams. This shows that there is a very diferent dimension from the top 2 teams."
   ]
  },
  {
   "cell_type": "code",
   "execution_count": 31,
   "metadata": {},
   "outputs": [],
   "source": [
    "BUN_team_xG_mean = BUN.groupby('team')['xG'].mean() \n",
    "BUN_team_xG_mean.sort_values(ascending=False)\n",
    "BUN_team_xG_mean =BUN_team_xG_mean.to_frame()\n",
    "BUN_team_xG_mean.reset_index(level=0, inplace=True)\n",
    "#Sorting out the data ascending and selecting the top 10\n",
    "bestteamsBUN = BUN_team_xG_mean.sort_values('xG', ascending = False)\n",
    "bestteamsBUN = bestteamsBUN.head(5)"
   ]
  },
  {
   "cell_type": "code",
   "execution_count": 32,
   "metadata": {},
   "outputs": [
    {
     "data": {
      "text/plain": [
       "<matplotlib.axes._subplots.AxesSubplot at 0x2a21d13da58>"
      ]
     },
     "execution_count": 32,
     "metadata": {},
     "output_type": "execute_result"
    },
    {
     "data": {
      "image/png": "[encoded data removed]",
      "text/plain": [
       "<Figure size 216x504 with 1 Axes>"
      ]
     },
     "metadata": {},
     "output_type": "display_data"
    }
   ],
   "source": [
    "#Creating a plotbar eith Xg \n",
    "sns.set(style=\"whitegrid\")\n",
    "f, ax = plt.subplots(figsize=(3, 7))\n",
    "sns.barplot(x=\"xG\", y=\"team\", data=bestteamsBUN,\n",
    "          palette = 'husl' )"
   ]
  },
  {
   "cell_type": "markdown",
   "metadata": {},
   "source": [
    "On the bundesliga there's no margin for doubt, Bayern Munich has been rulling the league, between 2014 and 2018, followed be Borussia Dortmund"
   ]
  },
  {
   "cell_type": "code",
   "execution_count": 33,
   "metadata": {},
   "outputs": [],
   "source": [
    "LI1_team_xG_mean = LI1.groupby('team')['xG'].mean() \n",
    "LI1_team_xG_mean.sort_values(ascending=False)\n",
    "LI1_team_xG_mean =LI1_team_xG_mean.to_frame()\n",
    "LI1_team_xG_mean.reset_index(level=0, inplace=True)\n",
    "#Sorting out the data ascending and selecting the top 10\n",
    "bestteamsLI1 = LI1_team_xG_mean.sort_values('xG', ascending = False)\n",
    "bestteamsLI1 = bestteamsLI1.head(5)"
   ]
  },
  {
   "cell_type": "code",
   "execution_count": 34,
   "metadata": {},
   "outputs": [
    {
     "data": {
      "text/plain": [
       "<matplotlib.axes._subplots.AxesSubplot at 0x2a21d1b1898>"
      ]
     },
     "execution_count": 34,
     "metadata": {},
     "output_type": "execute_result"
    },
    {
     "data": {
      "image/png": "[encoded data removed]",
      "text/plain": [
       "<Figure size 216x504 with 1 Axes>"
      ]
     },
     "metadata": {},
     "output_type": "display_data"
    }
   ],
   "source": [
    "#Creating a plotbar eith Xg \n",
    "sns.set(style=\"whitegrid\")\n",
    "f, ax = plt.subplots(figsize=(3, 7))\n",
    "sns.barplot(x=\"xG\", y=\"team\", data=bestteamsLI1,\n",
    "          palette = 'Paired' )"
   ]
  },
  {
   "cell_type": "markdown",
   "metadata": {},
   "source": [
    "In France, there isn't much doubt on who's the king of the league. PSG is the dominant force of the league."
   ]
  },
  {
   "cell_type": "code",
   "execution_count": 35,
   "metadata": {},
   "outputs": [],
   "source": [
    "RPL_team_xG_mean = RPL.groupby('team')['xG'].mean() \n",
    "RPL_team_xG_mean.sort_values(ascending=False)\n",
    "RPL_team_xG_mean =RPL_team_xG_mean.to_frame()\n",
    "RPL_team_xG_mean.reset_index(level=0, inplace=True)\n",
    "#Sorting out the data ascending and selecting the top 10\n",
    "bestteamsRPL = RPL_team_xG_mean.sort_values('xG', ascending = False)\n",
    "bestteamsRPL = bestteamsRPL.head(5)"
   ]
  },
  {
   "cell_type": "code",
   "execution_count": 36,
   "metadata": {},
   "outputs": [
    {
     "data": {
      "text/plain": [
       "<matplotlib.axes._subplots.AxesSubplot at 0x2a21d393ef0>"
      ]
     },
     "execution_count": 36,
     "metadata": {},
     "output_type": "execute_result"
    },
    {
     "data": {
      "image/png": "[encoded data removed]",
      "text/plain": [
       "<Figure size 216x504 with 1 Axes>"
      ]
     },
     "metadata": {},
     "output_type": "display_data"
    }
   ],
   "source": [
    "#Creating a plotbar eith Xg \n",
    "sns.set(style=\"whitegrid\")\n",
    "f, ax = plt.subplots(figsize=(3, 7))\n",
    "sns.barplot(x=\"xG\", y=\"team\", data=bestteamsRPL,\n",
    "          palette = 'Set2' )"
   ]
  },
  {
   "cell_type": "markdown",
   "metadata": {},
   "source": [
    "In Russia there it shows a good competitivity amogst the top 5 teams as they are very close to each other"
   ]
  },
  {
   "cell_type": "markdown",
   "metadata": {},
   "source": [
    "But let's see now which team has been the dominant force in Europe."
   ]
  },
  {
   "cell_type": "code",
   "execution_count": 37,
   "metadata": {},
   "outputs": [
    {
     "data": {
      "text/html": [
       "<div>\n",
       "<style scoped>\n",
       "    .dataframe tbody tr th:only-of-type {\n",
       "        vertical-align: middle;\n",
       "    }\n",
       "\n",
       "    .dataframe tbody tr th {\n",
       "        vertical-align: top;\n",
       "    }\n",
       "\n",
       "    .dataframe thead th {\n",
       "        text-align: right;\n",
       "    }\n",
       "</style>\n",
       "<table border=\"1\" class=\"dataframe\">\n",
       "  <thead>\n",
       "    <tr style=\"text-align: right;\">\n",
       "      <th></th>\n",
       "      <th>team</th>\n",
       "      <th>xG</th>\n",
       "    </tr>\n",
       "  </thead>\n",
       "  <tbody>\n",
       "    <tr>\n",
       "      <td>210</td>\n",
       "      <td>Barcelona</td>\n",
       "      <td>113.598270</td>\n",
       "    </tr>\n",
       "    <tr>\n",
       "      <td>191</td>\n",
       "      <td>Real Madrid</td>\n",
       "      <td>95.766243</td>\n",
       "    </tr>\n",
       "    <tr>\n",
       "      <td>370</td>\n",
       "      <td>Paris Saint Germain</td>\n",
       "      <td>95.344060</td>\n",
       "    </tr>\n",
       "    <tr>\n",
       "      <td>170</td>\n",
       "      <td>Manchester City</td>\n",
       "      <td>93.720559</td>\n",
       "    </tr>\n",
       "    <tr>\n",
       "      <td>72</td>\n",
       "      <td>Bayern Munich</td>\n",
       "      <td>92.240857</td>\n",
       "    </tr>\n",
       "    <tr>\n",
       "      <td>19</td>\n",
       "      <td>Borussia Dortmund</td>\n",
       "      <td>83.410238</td>\n",
       "    </tr>\n",
       "    <tr>\n",
       "      <td>511</td>\n",
       "      <td>Roma</td>\n",
       "      <td>82.996525</td>\n",
       "    </tr>\n",
       "    <tr>\n",
       "      <td>353</td>\n",
       "      <td>Marseille</td>\n",
       "      <td>82.197779</td>\n",
       "    </tr>\n",
       "    <tr>\n",
       "      <td>80</td>\n",
       "      <td>Hoffenheim</td>\n",
       "      <td>79.954644</td>\n",
       "    </tr>\n",
       "    <tr>\n",
       "      <td>171</td>\n",
       "      <td>Liverpool</td>\n",
       "      <td>79.457540</td>\n",
       "    </tr>\n",
       "  </tbody>\n",
       "</table>\n",
       "</div>"
      ],
      "text/plain": [
       "                    team          xG\n",
       "210            Barcelona  113.598270\n",
       "191          Real Madrid   95.766243\n",
       "370  Paris Saint Germain   95.344060\n",
       "170      Manchester City   93.720559\n",
       "72         Bayern Munich   92.240857\n",
       "19     Borussia Dortmund   83.410238\n",
       "511                 Roma   82.996525\n",
       "353            Marseille   82.197779\n",
       "80            Hoffenheim   79.954644\n",
       "171            Liverpool   79.457540"
      ]
     },
     "execution_count": 37,
     "metadata": {},
     "output_type": "execute_result"
    }
   ],
   "source": [
    "best_teams_Europe= football[['team','xG']]\n",
    "best_teams_Europe = best_teams_Europe.sort_values('xG', ascending = False)\n",
    "best_teams_Europe = best_teams_Europe.drop_duplicates(subset='team', keep='first')\n",
    "best_teams_Europe=best_teams_Europe.head(10)\n",
    "best_teams_Europe"
   ]
  },
  {
   "cell_type": "code",
   "execution_count": 38,
   "metadata": {},
   "outputs": [
    {
     "data": {
      "text/plain": [
       "<matplotlib.axes._subplots.AxesSubplot at 0x2a21d3fa588>"
      ]
     },
     "execution_count": 38,
     "metadata": {},
     "output_type": "execute_result"
    },
    {
     "data": {
      "image/png": "[encoded data removed]",
      "text/plain": [
       "<Figure size 288x1080 with 1 Axes>"
      ]
     },
     "metadata": {},
     "output_type": "display_data"
    }
   ],
   "source": [
    "#Creating a plotbar eith Xg \n",
    "sns.set(style=\"whitegrid\")\n",
    "f, ax = plt.subplots(figsize=(4, 15))\n",
    "sns.barplot(x=\"xG\", y=\"team\", data=best_teams_Europe,\n",
    "          palette = 'Set3' )"
   ]
  },
  {
   "cell_type": "code",
   "execution_count": 39,
   "metadata": {},
   "outputs": [
    {
     "data": {
      "image/png": "[encoded data removed]",
      "text/plain": [
       "<Figure size 432x288 with 1 Axes>"
      ]
     },
     "metadata": {},
     "output_type": "display_data"
    }
   ],
   "source": [
    "plt.bar(best_teams_Europe.team, best_teams_Europe.xG)\n",
    "names = (best_teams_Europe.team)\n",
    "plt.xticks(names, rotation=90)\n",
    "plt.subplots_adjust(bottom=0.1)\n",
    "plt.title(\"Best teams in Europe\")\n",
    "plt.subplots_adjust(top=0.7)"
   ]
  },
  {
   "cell_type": "markdown",
   "metadata": {},
   "source": [
    "Now that we have a better understanding of which are the best leagues and the best teams in Europe, lets try to understand the correlation between the variables and which ones have more impact on the classification of the teams. After that we will try to predict who will be the winner of the each league. "
   ]
  },
  {
   "cell_type": "code",
   "execution_count": 40,
   "metadata": {},
   "outputs": [
    {
     "name": "stdout",
     "output_type": "stream",
     "text": [
      "                      year      position       matches      wins     draws  \\\n",
      "year          1.000000e+00 -1.422701e-17 -1.214293e-17  0.002510 -0.010181   \n",
      "position     -1.422701e-17  1.000000e+00  1.301810e-01 -0.870112  0.187476   \n",
      "matches      -1.214293e-17  1.301810e-01  1.000000e+00  0.202108  0.173228   \n",
      "wins          2.510368e-03 -8.701120e-01  2.021080e-01  1.000000 -0.334472   \n",
      "draws        -1.018053e-02  1.874761e-01  1.732278e-01 -0.334472  1.000000   \n",
      "loses         2.689107e-03  9.013048e-01  2.164982e-01 -0.788496 -0.079138   \n",
      "scored        2.717773e-02 -7.069905e-01  2.949861e-01  0.882977 -0.224380   \n",
      "missed        3.461879e-02  7.672884e-01  3.757511e-01 -0.615375  0.031134   \n",
      "pts           8.738123e-04 -8.764265e-01  2.407870e-01  0.986827 -0.177607   \n",
      "xG            7.903514e-02 -6.338118e-01  3.655672e-01  0.818197 -0.171363   \n",
      "xG_diff       9.599821e-02  4.771775e-01  1.237880e-02 -0.540294  0.213754   \n",
      "npxG          7.004033e-02 -6.321608e-01  3.603043e-01  0.816677 -0.176896   \n",
      "xGA           9.833500e-02  6.896448e-01  4.548363e-01 -0.531104  0.077043   \n",
      "xGA_diff      9.949285e-02 -3.904202e-01  1.282943e-02  0.351449  0.069629   \n",
      "npxGA         8.781514e-02  6.767176e-01  4.517421e-01 -0.522722  0.080713   \n",
      "npxGD         0.000000e+00 -8.217152e-01 -2.885568e-18  0.864972 -0.169175   \n",
      "ppda_coef     3.450373e-01  4.779742e-01  2.078215e-02 -0.451938  0.061143   \n",
      "oppda_coef    2.606403e-01 -5.585681e-01  1.569879e-02  0.642113 -0.233454   \n",
      "deep          8.993332e-02 -6.142518e-01  1.669816e-01  0.739290 -0.204820   \n",
      "deep_allowed  1.428707e-01  6.217026e-01  2.652720e-01 -0.547382  0.120261   \n",
      "xpts          5.502317e-03 -7.589292e-01  3.056603e-01  0.891562 -0.100008   \n",
      "xpts_diff     8.256990e-03  6.466243e-01  4.585821e-03 -0.658613  0.231933   \n",
      "\n",
      "                 loses    scored    missed       pts        xG  ...       xGA  \\\n",
      "year          0.002689  0.027178  0.034619  0.000874  0.079035  ...  0.098335   \n",
      "position      0.901305 -0.706990  0.767288 -0.876426 -0.633812  ...  0.689645   \n",
      "matches       0.216498  0.294986  0.375751  0.240787  0.365567  ...  0.454836   \n",
      "wins         -0.788496  0.882977 -0.615375  0.986827  0.818197  ... -0.531104   \n",
      "draws        -0.079138 -0.224380  0.031134 -0.177607 -0.171363  ...  0.077043   \n",
      "loses         1.000000 -0.672585  0.839828 -0.836968 -0.594181  ...  0.766785   \n",
      "scored       -0.672585  1.000000 -0.356012  0.883525  0.925952  ... -0.328788   \n",
      "missed        0.839828 -0.356012  1.000000 -0.637257 -0.306800  ...  0.876966   \n",
      "pts          -0.836968  0.883525 -0.637257  1.000000  0.824980  ... -0.541377   \n",
      "xG           -0.594181  0.925952 -0.306800  0.824980  1.000000  ... -0.264149   \n",
      "xG_diff       0.472334 -0.613330  0.266142 -0.527505 -0.269642  ...  0.285926   \n",
      "npxG         -0.592391  0.920367 -0.308453  0.822444  0.990923  ... -0.264644   \n",
      "xGA           0.766785 -0.328788  0.876966 -0.541377 -0.264149  ...  1.000000   \n",
      "xGA_diff     -0.406527  0.165816 -0.546884  0.378951  0.176328  ... -0.077275   \n",
      "npxGA         0.754244 -0.322772  0.863690 -0.531994 -0.250897  ...  0.988283   \n",
      "npxGD        -0.837186  0.825855 -0.699303  0.874201  0.835131  ... -0.738264   \n",
      "ppda_coef     0.462716 -0.437775  0.376758 -0.461438 -0.432416  ...  0.405927   \n",
      "oppda_coef   -0.556268  0.630792 -0.443389  0.630448  0.633282  ... -0.446970   \n",
      "deep         -0.596141  0.797548 -0.391654  0.736839  0.835643  ... -0.380355   \n",
      "deep_allowed  0.661962 -0.422792  0.675296 -0.550956 -0.381061  ...  0.783724   \n",
      "xpts         -0.741887  0.876481 -0.548488  0.913841  0.914043  ... -0.555736   \n",
      "xpts_diff     0.585385 -0.442893  0.476424 -0.647938 -0.234148  ...  0.236350   \n",
      "\n",
      "              xGA_diff     npxGA         npxGD  ppda_coef  oppda_coef  \\\n",
      "year          0.099493  0.087815  0.000000e+00   0.345037    0.260640   \n",
      "position     -0.390420  0.676718 -8.217152e-01   0.477974   -0.558568   \n",
      "matches       0.012829  0.451742 -2.885568e-18   0.020782    0.015699   \n",
      "wins          0.351449 -0.522722  8.649720e-01  -0.451938    0.642113   \n",
      "draws         0.069629  0.080713 -1.691746e-01   0.061143   -0.233454   \n",
      "loses        -0.406527  0.754244 -8.371860e-01   0.462716   -0.556268   \n",
      "scored        0.165816 -0.322772  8.258546e-01  -0.437775    0.630792   \n",
      "missed       -0.546884  0.863690 -6.993028e-01   0.376758   -0.443389   \n",
      "pts           0.378951 -0.531994  8.742008e-01  -0.461438    0.630448   \n",
      "xG            0.176328 -0.250897  8.351306e-01  -0.432416    0.633282   \n",
      "xG_diff      -0.054035  0.298302 -3.592207e-01   0.211909   -0.283984   \n",
      "npxG          0.178895 -0.249380  8.406466e-01  -0.426920    0.641393   \n",
      "xGA          -0.077275  0.988283 -7.382638e-01   0.405927   -0.446970   \n",
      "xGA_diff      1.000000 -0.070145  1.646667e-01  -0.074468    0.141204   \n",
      "npxGA        -0.070145  1.000000 -7.341133e-01   0.402576   -0.436486   \n",
      "npxGD         0.164667 -0.734113  1.000000e+00  -0.524490    0.693838   \n",
      "ppda_coef    -0.074468  0.402576 -5.244902e-01   1.000000   -0.233814   \n",
      "oppda_coef    0.141204 -0.436486  6.938384e-01  -0.233814    1.000000   \n",
      "deep          0.149925 -0.362049  7.918101e-01  -0.413578    0.711109   \n",
      "deep_allowed -0.035661  0.791095 -7.058388e-01   0.569947   -0.459637   \n",
      "xpts          0.169764 -0.540036  9.376167e-01  -0.496289    0.656933   \n",
      "xpts_diff    -0.576678  0.243637 -3.061928e-01   0.159037   -0.256922   \n",
      "\n",
      "                  deep  deep_allowed      xpts  xpts_diff  \n",
      "year          0.089933      0.142871  0.005502   0.008257  \n",
      "position     -0.614252      0.621703 -0.758929   0.646624  \n",
      "matches       0.166982      0.265272  0.305660   0.004586  \n",
      "wins          0.739290     -0.547382  0.891562  -0.658613  \n",
      "draws        -0.204820      0.120261 -0.100008   0.231933  \n",
      "loses        -0.596141      0.661962 -0.741887   0.585385  \n",
      "scored        0.797548     -0.422792  0.876481  -0.442893  \n",
      "missed       -0.391654      0.675296 -0.548488   0.476424  \n",
      "pts           0.736839     -0.550956  0.913841  -0.647938  \n",
      "xG            0.835643     -0.381061  0.914043  -0.234148  \n",
      "xG_diff      -0.285969      0.281114 -0.323272   0.639632  \n",
      "npxG          0.840487     -0.375676  0.906472  -0.242360  \n",
      "xGA          -0.380355      0.783724 -0.555736   0.236350  \n",
      "xGA_diff      0.149925     -0.035661  0.169764  -0.576678  \n",
      "npxGA        -0.362049      0.791095 -0.540036   0.243637  \n",
      "npxGD         0.791810     -0.705839  0.937617  -0.306193  \n",
      "ppda_coef    -0.413578      0.569947 -0.496289   0.159037  \n",
      "oppda_coef    0.711109     -0.459637  0.656933  -0.256922  \n",
      "deep          1.000000     -0.393007  0.802931  -0.234372  \n",
      "deep_allowed -0.393007      1.000000 -0.582435   0.208897  \n",
      "xpts          0.802931     -0.582435  1.000000  -0.282810  \n",
      "xpts_diff    -0.234372      0.208897 -0.282810   1.000000  \n",
      "\n",
      "[22 rows x 22 columns]\n"
     ]
    }
   ],
   "source": [
    "corrMatrix = football.corr()\n",
    "print (corrMatrix)"
   ]
  },
  {
   "cell_type": "code",
   "execution_count": 41,
   "metadata": {},
   "outputs": [
    {
     "data": {
      "image/png": "[encoded data removed]",
      "text/plain": [
       "<Figure size 792x1080 with 2 Axes>"
      ]
     },
     "metadata": {},
     "output_type": "display_data"
    }
   ],
   "source": [
    "#Let's create a plot where we can see what are the highly correlated features\n",
    "f, ax = plt.subplots(figsize=(11, 15))\n",
    "mask = np.zeros_like(corrMatrix, dtype=np.bool)\n",
    "mask[np.triu_indices_from(mask)]= True\n",
    "\n",
    "heatmap = sns.heatmap(corrMatrix,\n",
    "                      mask = mask,\n",
    "                      square = True,\n",
    "                      linewidths = .5,\n",
    "                      cmap = 'coolwarm',\n",
    "                      cbar_kws = {'shrink': .4,\n",
    "                                'ticks' : [-1, -.5, 0, 0.5, 1]},\n",
    "                      vmin = -1,\n",
    "                      vmax = 1,\n",
    "                      annot_kws = {'size': 12})\n",
    "\n",
    "#add the column names as labels\n",
    "ax.set_yticklabels(corrMatrix.columns, rotation = 0)\n",
    "ax.set_xticklabels(corrMatrix.columns)\n",
    "\n",
    "sns.set_style({'xtick.bottom': True}, {'ytick.left': True})"
   ]
  },
  {
   "cell_type": "code",
   "execution_count": 42,
   "metadata": {},
   "outputs": [
    {
     "name": "stdout",
     "output_type": "stream",
     "text": [
      "['loses', 'scored', 'pts', 'xG', 'npxG', 'xGA', 'npxGA', 'npxGD', 'xpts']\n"
     ]
    }
   ],
   "source": [
    "# Select upper triangle of correlation matrix\n",
    "upper = corrMatrix.where(np.triu(np.ones(corrMatrix.shape), k=1).astype(np.bool))\n",
    "\n",
    "# Find features with correlation greater than 0.85\n",
    "to_drop = [column for column in upper.columns if any(upper[column] > 0.85)]\n",
    "print(to_drop)"
   ]
  },
  {
   "cell_type": "code",
   "execution_count": 100,
   "metadata": {},
   "outputs": [
    {
     "data": {
      "text/html": [
       "<div>\n",
       "<style scoped>\n",
       "    .dataframe tbody tr th:only-of-type {\n",
       "        vertical-align: middle;\n",
       "    }\n",
       "\n",
       "    .dataframe tbody tr th {\n",
       "        vertical-align: top;\n",
       "    }\n",
       "\n",
       "    .dataframe thead th {\n",
       "        text-align: right;\n",
       "    }\n",
       "</style>\n",
       "<table border=\"1\" class=\"dataframe\">\n",
       "  <thead>\n",
       "    <tr style=\"text-align: right;\">\n",
       "      <th></th>\n",
       "      <th>position</th>\n",
       "      <th>wins</th>\n",
       "      <th>missed</th>\n",
       "      <th>pts</th>\n",
       "      <th>xG_diff</th>\n",
       "      <th>xGA_diff</th>\n",
       "      <th>ppda_coef</th>\n",
       "      <th>oppda_coef</th>\n",
       "    </tr>\n",
       "  </thead>\n",
       "  <tbody>\n",
       "    <tr>\n",
       "      <td>0</td>\n",
       "      <td>1</td>\n",
       "      <td>25</td>\n",
       "      <td>18</td>\n",
       "      <td>79</td>\n",
       "      <td>-13.794255</td>\n",
       "      <td>3.938729</td>\n",
       "      <td>5.761476</td>\n",
       "      <td>25.022717</td>\n",
       "    </tr>\n",
       "    <tr>\n",
       "      <td>1</td>\n",
       "      <td>2</td>\n",
       "      <td>20</td>\n",
       "      <td>38</td>\n",
       "      <td>69</td>\n",
       "      <td>-13.652269</td>\n",
       "      <td>0.822021</td>\n",
       "      <td>9.136319</td>\n",
       "      <td>10.289876</td>\n",
       "    </tr>\n",
       "    <tr>\n",
       "      <td>2</td>\n",
       "      <td>3</td>\n",
       "      <td>19</td>\n",
       "      <td>26</td>\n",
       "      <td>66</td>\n",
       "      <td>-1.258428</td>\n",
       "      <td>10.343299</td>\n",
       "      <td>12.751108</td>\n",
       "      <td>12.783803</td>\n",
       "    </tr>\n",
       "    <tr>\n",
       "      <td>3</td>\n",
       "      <td>4</td>\n",
       "      <td>17</td>\n",
       "      <td>37</td>\n",
       "      <td>61</td>\n",
       "      <td>-12.844301</td>\n",
       "      <td>-2.279614</td>\n",
       "      <td>5.693289</td>\n",
       "      <td>7.347595</td>\n",
       "    </tr>\n",
       "    <tr>\n",
       "      <td>4</td>\n",
       "      <td>5</td>\n",
       "      <td>15</td>\n",
       "      <td>43</td>\n",
       "      <td>49</td>\n",
       "      <td>0.911698</td>\n",
       "      <td>3.659608</td>\n",
       "      <td>7.625900</td>\n",
       "      <td>10.402360</td>\n",
       "    </tr>\n",
       "    <tr>\n",
       "      <td>...</td>\n",
       "      <td>...</td>\n",
       "      <td>...</td>\n",
       "      <td>...</td>\n",
       "      <td>...</td>\n",
       "      <td>...</td>\n",
       "      <td>...</td>\n",
       "      <td>...</td>\n",
       "      <td>...</td>\n",
       "    </tr>\n",
       "    <tr>\n",
       "      <td>565</td>\n",
       "      <td>16</td>\n",
       "      <td>10</td>\n",
       "      <td>61</td>\n",
       "      <td>41</td>\n",
       "      <td>0.098643</td>\n",
       "      <td>3.981144</td>\n",
       "      <td>16.819575</td>\n",
       "      <td>7.936238</td>\n",
       "    </tr>\n",
       "    <tr>\n",
       "      <td>566</td>\n",
       "      <td>17</td>\n",
       "      <td>8</td>\n",
       "      <td>57</td>\n",
       "      <td>38</td>\n",
       "      <td>5.539068</td>\n",
       "      <td>-0.645695</td>\n",
       "      <td>12.171971</td>\n",
       "      <td>9.158080</td>\n",
       "    </tr>\n",
       "    <tr>\n",
       "      <td>567</td>\n",
       "      <td>18</td>\n",
       "      <td>10</td>\n",
       "      <td>70</td>\n",
       "      <td>38</td>\n",
       "      <td>1.061419</td>\n",
       "      <td>-6.672620</td>\n",
       "      <td>14.096074</td>\n",
       "      <td>11.303252</td>\n",
       "    </tr>\n",
       "    <tr>\n",
       "      <td>568</td>\n",
       "      <td>19</td>\n",
       "      <td>5</td>\n",
       "      <td>69</td>\n",
       "      <td>25</td>\n",
       "      <td>7.103252</td>\n",
       "      <td>-4.406331</td>\n",
       "      <td>14.777899</td>\n",
       "      <td>9.125747</td>\n",
       "    </tr>\n",
       "    <tr>\n",
       "      <td>569</td>\n",
       "      <td>20</td>\n",
       "      <td>2</td>\n",
       "      <td>75</td>\n",
       "      <td>20</td>\n",
       "      <td>11.476330</td>\n",
       "      <td>-12.307132</td>\n",
       "      <td>13.518123</td>\n",
       "      <td>11.513254</td>\n",
       "    </tr>\n",
       "  </tbody>\n",
       "</table>\n",
       "<p>570 rows × 8 columns</p>\n",
       "</div>"
      ],
      "text/plain": [
       "     position  wins  missed  pts    xG_diff   xGA_diff  ppda_coef  oppda_coef\n",
       "0           1    25      18   79 -13.794255   3.938729   5.761476   25.022717\n",
       "1           2    20      38   69 -13.652269   0.822021   9.136319   10.289876\n",
       "2           3    19      26   66  -1.258428  10.343299  12.751108   12.783803\n",
       "3           4    17      37   61 -12.844301  -2.279614   5.693289    7.347595\n",
       "4           5    15      43   49   0.911698   3.659608   7.625900   10.402360\n",
       "..        ...   ...     ...  ...        ...        ...        ...         ...\n",
       "565        16    10      61   41   0.098643   3.981144  16.819575    7.936238\n",
       "566        17     8      57   38   5.539068  -0.645695  12.171971    9.158080\n",
       "567        18    10      70   38   1.061419  -6.672620  14.096074   11.303252\n",
       "568        19     5      69   25   7.103252  -4.406331  14.777899    9.125747\n",
       "569        20     2      75   20  11.476330 -12.307132  13.518123   11.513254\n",
       "\n",
       "[570 rows x 8 columns]"
      ]
     },
     "execution_count": 100,
     "metadata": {},
     "output_type": "execute_result"
    }
   ],
   "source": [
    "#Besides the hihgly correlated features, we've also took out the numeric variables like \"League\" and \"Team\" or the variables that are somehow neutral like \"matches' or \"draws\" and won't help the model\n",
    "football_train = football.drop(['loses', 'scored', 'deep','deep_allowed','xpts_diff','xG', 'npxG', 'xGA', 'npxGA', 'npxGD', 'xpts', 'year', 'team', 'matches', 'draws', 'league'], axis=1)\n",
    "football_train"
   ]
  },
  {
   "cell_type": "markdown",
   "metadata": {},
   "source": [
    "So now that we have explored and cleaned the data lets train a few models with the intent of predicting the position on the teams by the end of the season 2019/2020"
   ]
  },
  {
   "cell_type": "markdown",
   "metadata": {},
   "source": [
    "<h3> Model testing and trainning </h3>"
   ]
  },
  {
   "cell_type": "code",
   "execution_count": 101,
   "metadata": {},
   "outputs": [
    {
     "data": {
      "text/plain": [
       "((427, 7), (143, 7))"
      ]
     },
     "execution_count": 101,
     "metadata": {},
     "output_type": "execute_result"
    }
   ],
   "source": [
    "from sklearn.model_selection import train_test_split\n",
    "\n",
    "#Selecting the independent variables\n",
    "features= football_train.iloc[:,1:23]\n",
    "\n",
    "#Selecting dependent variable\n",
    "depVar = football_train['position']\n",
    "\n",
    "#Establish train and test sets\n",
    "X_train, X_test, y_train, y_test = train_test_split(features, depVar, test_size=0.25)\n",
    "\n",
    "#Use the shape function to double check that the split was made as needed:\n",
    "X_train.shape, X_test.shape\n"
   ]
  },
  {
   "cell_type": "code",
   "execution_count": 102,
   "metadata": {},
   "outputs": [
    {
     "data": {
      "text/plain": [
       "LinearRegression(copy_X=True, fit_intercept=True, n_jobs=None, normalize=False)"
      ]
     },
     "execution_count": 102,
     "metadata": {},
     "output_type": "execute_result"
    }
   ],
   "source": [
    "from sklearn.linear_model import LinearRegression\n",
    "regressor = LinearRegression()  \n",
    "#training the algorithm\n",
    "regressor.fit(X_train, y_train) "
   ]
  },
  {
   "cell_type": "code",
   "execution_count": 103,
   "metadata": {},
   "outputs": [
    {
     "data": {
      "text/plain": [
       "0.8494773950187406"
      ]
     },
     "execution_count": 103,
     "metadata": {},
     "output_type": "execute_result"
    }
   ],
   "source": [
    "#Lets analyse its accuracy\n",
    "from sklearn.model_selection import cross_val_predict\n",
    "from sklearn import metrics\n",
    "predictions = cross_val_predict(regressor, X_test, y_test, cv = 3)\n",
    "regressor.score(X_train, y_train)"
   ]
  },
  {
   "cell_type": "code",
   "execution_count": 104,
   "metadata": {},
   "outputs": [
    {
     "name": "stdout",
     "output_type": "stream",
     "text": [
      "[0.84065557 0.82049677 0.85900237]\n"
     ]
    }
   ],
   "source": [
    "#Cross Validation score\n",
    "from sklearn.model_selection import cross_val_score\n",
    "scores = cross_val_score(regressor, X_train, y_train, cv=3)\n",
    "print(scores)"
   ]
  },
  {
   "cell_type": "code",
   "execution_count": 105,
   "metadata": {},
   "outputs": [
    {
     "name": "stdout",
     "output_type": "stream",
     "text": [
      "Accuracy: 0.84 (+/- 0.03)\n"
     ]
    }
   ],
   "source": [
    "#Mean score and confidence interval\n",
    "print(\"Accuracy: %0.2f (+/- %0.2f)\" % (scores.mean(), scores.std() * 2))"
   ]
  },
  {
   "cell_type": "code",
   "execution_count": 106,
   "metadata": {},
   "outputs": [
    {
     "data": {
      "text/plain": [
       "array([10.42373246, 16.59912571, 17.05202024,  3.28050591, 12.6222059 ,\n",
       "        2.19152442,  7.08092117, 16.96323336, 13.60680041,  7.84575968,\n",
       "        8.61490675, 14.14587186, -7.1167383 ,  3.14640408,  9.76445909,\n",
       "       14.00809955,  7.20085575, 12.0305338 , 22.16836023, 13.74569352,\n",
       "        7.93910586, 13.59664992, 19.09236084, 11.59448971, 10.25257113,\n",
       "       15.15182155, 12.53713451,  4.48511227, 16.21217974, 13.13494159,\n",
       "       13.42960202, 14.06556223, 15.41364519, 11.66612006, 10.40638002,\n",
       "       12.84417822, 20.13534922, 14.87548415, 13.59651056,  4.95732829,\n",
       "       18.8294911 , 13.96842034, 15.14730901, 12.89728216,  3.27115676,\n",
       "       -4.92552224, 15.75255228, 14.36540083,  4.91118348, 12.76218539,\n",
       "       13.39517802,  2.56273517,  8.30166368, 13.59321754,  9.03232481,\n",
       "       11.53298632, 15.98615933, 18.19953528, 12.62139419,  1.03562477,\n",
       "       12.83832878, 13.08404756,  8.2753461 , 13.34952901,  3.6045576 ,\n",
       "       10.1491984 ,  2.74839273, 10.401272  ,  1.11173239, 10.85219503,\n",
       "       11.66850707,  2.54399716,  7.24626953, 14.30290842, 12.44493815,\n",
       "       14.40948873, 13.47450978,  1.68931278, 13.15080474, 11.05616477,\n",
       "       21.03171625, -0.67954941, -0.54490863, 14.0835845 , 18.66403788,\n",
       "       -3.20493033, 16.05287657, 15.42156684,  7.32214854,  4.38583341,\n",
       "       15.08774311, 10.59260126, 16.50884994, 19.64196393, 12.07648486,\n",
       "       -1.26520875, 14.30453746, 15.7999873 , 12.40927267, 14.25370135,\n",
       "        6.59702305, 11.59491562, 16.41720048, 13.02914029, 13.28182387,\n",
       "        9.73859861, 14.93692159,  9.17899638, 11.58759906, 11.78285124,\n",
       "       16.1364021 ,  5.78436228,  7.8674212 ,  3.32874827,  5.84747712,\n",
       "       11.46660712, 11.0897376 , 11.00791383, 10.05716812, 11.99742271,\n",
       "        8.34650071,  9.14755973,  8.03908866,  8.65923541,  8.75054259,\n",
       "        9.20192401, 10.80668509, 12.80279856,  7.65954311, 15.15167854,\n",
       "       11.27145569,  6.93893493, 14.20573299, 18.02208428, 20.06041001,\n",
       "        9.59228306,  4.3303767 , 11.36746583, 11.25054091, 14.04613318,\n",
       "       14.51178687, 12.20504174,  6.14116631])"
      ]
     },
     "execution_count": 106,
     "metadata": {},
     "output_type": "execute_result"
    }
   ],
   "source": [
    "#Print Predictions\n",
    "predictions"
   ]
  },
  {
   "cell_type": "code",
   "execution_count": 107,
   "metadata": {},
   "outputs": [],
   "source": [
    "#Although the accuracy of our predictions is not bad, we have some negative results so let's try a different model"
   ]
  },
  {
   "cell_type": "code",
   "execution_count": 108,
   "metadata": {},
   "outputs": [
    {
     "data": {
      "text/plain": [
       "SVR(C=1.0, cache_size=200, coef0=0.0, degree=3, epsilon=0.1, gamma='auto',\n",
       "    kernel='rbf', max_iter=-1, shrinking=True, tol=0.001, verbose=False)"
      ]
     },
     "execution_count": 108,
     "metadata": {},
     "output_type": "execute_result"
    }
   ],
   "source": [
    "from sklearn import svm\n",
    "svm = svm.SVR(gamma = 'auto')\n",
    "svm.fit(X_train, y_train)"
   ]
  },
  {
   "cell_type": "code",
   "execution_count": 109,
   "metadata": {},
   "outputs": [
    {
     "data": {
      "text/plain": [
       "0.287099816743031"
      ]
     },
     "execution_count": 109,
     "metadata": {},
     "output_type": "execute_result"
    }
   ],
   "source": [
    "predictions_svm = cross_val_predict(svm, X_test, y_test, cv = 3)\n",
    "svm.score(X_train, y_train)"
   ]
  },
  {
   "cell_type": "code",
   "execution_count": 110,
   "metadata": {},
   "outputs": [
    {
     "data": {
      "text/plain": [
       "0.8494773817614212"
      ]
     },
     "execution_count": 110,
     "metadata": {},
     "output_type": "execute_result"
    }
   ],
   "source": [
    "from sklearn.linear_model import Ridge\n",
    "ridge = Ridge(alpha=1.0)\n",
    "ridge.fit(X_train, y_train)\n",
    "predictions_ridge = cross_val_predict(ridge, X_test, y_test, cv = 3)\n",
    "ridge.score(X_train, y_train)"
   ]
  },
  {
   "cell_type": "code",
   "execution_count": 111,
   "metadata": {},
   "outputs": [
    {
     "data": {
      "text/plain": [
       "array([10.42537688, 16.58275394, 17.04517771,  3.27898073, 12.60610948,\n",
       "        2.19278797,  7.0922828 , 16.97547757, 13.61384773,  7.82599798,\n",
       "        8.61937972, 14.13992551, -7.10754656,  3.15090881,  9.76078485,\n",
       "       14.01584214,  7.20989572, 12.04326217, 22.1574456 , 13.74872166,\n",
       "        7.92165993, 13.59189096, 19.0816363 , 11.59142685, 10.23693721,\n",
       "       15.14815556, 12.52831145,  4.49824871, 16.22975603, 13.14904495,\n",
       "       13.42275475, 14.06497786, 15.40619087, 11.67014093, 10.39831239,\n",
       "       12.84500834, 20.14543658, 14.8814747 , 13.59458016,  4.94855665,\n",
       "       18.82762175, 13.97160733, 15.14305456, 12.88967004,  3.26283092,\n",
       "       -4.90701614, 15.75008443, 14.36044578,  4.91465943, 12.75594633,\n",
       "       13.39746415,  2.56525488,  8.30289244, 13.59265135,  9.03298195,\n",
       "       11.53663742, 15.98954678, 18.1984042 , 12.62044146,  1.03597164,\n",
       "       12.83915963, 13.08560293,  8.27269992, 13.34950808,  3.60318133,\n",
       "       10.1517784 ,  2.75485081, 10.40583005,  1.11145089, 10.85490946,\n",
       "       11.66607502,  2.55191962,  7.24575296, 14.29410112, 12.44677616,\n",
       "       14.40302306, 13.47023096,  1.68552065, 13.1524257 , 11.05321791,\n",
       "       21.0315204 , -0.68003217, -0.54140131, 14.0869702 , 18.6710719 ,\n",
       "       -3.20065441, 16.04805845, 15.41850608,  7.32089287,  4.38336046,\n",
       "       15.08871257, 10.59418135, 16.50766701, 19.6467821 , 12.07834757,\n",
       "       -1.26276466, 14.31166583, 15.78886009, 12.39426734, 14.27386236,\n",
       "        6.60321619, 11.59344172, 16.42304668, 13.03063488, 13.28070841,\n",
       "        9.73973261, 14.9375511 ,  9.18357578, 11.58647505, 11.78072955,\n",
       "       16.13768387,  5.78255665,  7.86246839,  3.33897615,  5.85006475,\n",
       "       11.47085391, 11.09018587, 11.01029314, 10.04691483, 11.99559757,\n",
       "        8.33488688,  9.1315813 ,  8.05217823,  8.65844822,  8.74667273,\n",
       "        9.208664  , 10.78009807, 12.79720087,  7.6649764 , 15.15589289,\n",
       "       11.27906465,  6.94798642, 14.21133338, 18.03926316, 20.06831698,\n",
       "        9.59564975,  4.33135411, 11.36484192, 11.23874558, 14.05903972,\n",
       "       14.49411163, 12.19154124,  6.15370056])"
      ]
     },
     "execution_count": 111,
     "metadata": {},
     "output_type": "execute_result"
    }
   ],
   "source": [
    "predictions_ridge"
   ]
  },
  {
   "cell_type": "code",
   "execution_count": 112,
   "metadata": {},
   "outputs": [
    {
     "data": {
      "text/plain": [
       "0.8491744785029058"
      ]
     },
     "execution_count": 112,
     "metadata": {},
     "output_type": "execute_result"
    }
   ],
   "source": [
    "from sklearn import linear_model\n",
    "lasso = linear_model.Lasso(alpha=0.1)\n",
    "lasso.fit(X_train, y_train)\n",
    "predictions_lasso = cross_val_predict(lasso, X_test, y_test, cv = 3)\n",
    "lasso.score(X_train, y_train)"
   ]
  },
  {
   "cell_type": "code",
   "execution_count": 113,
   "metadata": {},
   "outputs": [
    {
     "data": {
      "text/plain": [
       "array([10.3536246 , 16.32194733, 16.97891373,  3.19754511, 12.26272549,\n",
       "        2.19814871,  7.16871187, 17.16705802, 13.69717047,  7.48075618,\n",
       "        8.62443797, 14.00398135, -7.11623064,  3.21193617,  9.71273983,\n",
       "       14.15995003,  7.30340981, 12.21674602, 22.11306769, 13.82400473,\n",
       "        7.67813258, 13.5719111 , 18.95676122, 11.54674767, 10.0214409 ,\n",
       "       15.18030331, 12.4008835 ,  4.70585703, 16.28748831, 13.33008667,\n",
       "       13.34376615, 14.03133531, 15.35646404, 11.71068607, 10.2968507 ,\n",
       "       12.83542656, 20.12928786, 14.88055087, 13.66049588,  4.86121759,\n",
       "       18.78640796, 14.03204476, 14.96989213, 12.75194022,  3.17744051,\n",
       "       -4.70739397, 15.71450226, 14.31190503,  5.01434099, 12.62905733,\n",
       "       13.3683414 ,  2.69654334,  8.35053766, 13.59354427,  9.06090027,\n",
       "       11.70010768, 16.00188695, 18.11614603, 12.63098612,  1.09300598,\n",
       "       12.89645287, 13.15264262,  8.19899397, 13.39722722,  3.58481958,\n",
       "       10.20126334,  3.0026138 , 10.58809834,  1.1810113 , 10.96770364,\n",
       "       11.57364601,  2.7559498 ,  7.27113013, 14.11375007, 12.53308494,\n",
       "       14.32629043, 13.35043772,  1.64828429, 13.16318569, 11.04663113,\n",
       "       20.9785595 , -0.70986814, -0.39732147, 14.19130462, 18.83785698,\n",
       "       -3.00655376, 15.95274147, 15.35597221,  7.32202396,  4.27644391,\n",
       "       15.10693027, 10.6435781 , 16.46833138, 19.72093485, 12.08861282,\n",
       "       -1.12913949, 14.34737441, 15.6904738 , 12.18362909, 14.57523883,\n",
       "        6.76134552, 11.53762097, 16.50180991, 13.04714675, 13.36596213,\n",
       "        9.76767647, 14.95720851,  9.28925367, 11.64719932, 11.71270776,\n",
       "       16.05632533,  5.77364374,  7.81051285,  3.50726107,  5.8923808 ,\n",
       "       11.56662573, 11.0648126 , 11.05160985,  9.95989258, 11.96766091,\n",
       "        8.19579558,  9.00937631,  8.27514727,  8.64401122,  8.74633196,\n",
       "        9.32848051, 10.39808426, 12.73922805,  7.72575002, 15.19919634,\n",
       "       11.34927787,  7.17162726, 14.16263776, 18.27555567, 20.02423594,\n",
       "        9.69635944,  4.36415728, 11.40545527, 11.06851197, 14.15644357,\n",
       "       14.22578774, 12.0249292 ,  6.29484571])"
      ]
     },
     "execution_count": 113,
     "metadata": {},
     "output_type": "execute_result"
    }
   ],
   "source": [
    "predictions_lasso"
   ]
  },
  {
   "cell_type": "code",
   "execution_count": 114,
   "metadata": {},
   "outputs": [
    {
     "name": "stderr",
     "output_type": "stream",
     "text": [
      "C:\\Anaconda\\lib\\site-packages\\sklearn\\ensemble\\forest.py:245: FutureWarning: The default value of n_estimators will change from 10 in version 0.20 to 100 in 0.22.\n",
      "  \"10 in version 0.20 to 100 in 0.22.\", FutureWarning)\n"
     ]
    },
    {
     "data": {
      "text/plain": [
       "0.9821124014308681"
      ]
     },
     "execution_count": 114,
     "metadata": {},
     "output_type": "execute_result"
    }
   ],
   "source": [
    "from sklearn.ensemble import RandomForestRegressor\n",
    "rf= RandomForestRegressor()\n",
    "rf.fit(X_train, y_train)\n",
    "predictions_rf = cross_val_predict(rf, X_test, y_test, cv = 3)\n",
    "rf.score(X_train, y_train)"
   ]
  },
  {
   "cell_type": "code",
   "execution_count": 115,
   "metadata": {},
   "outputs": [
    {
     "name": "stdout",
     "output_type": "stream",
     "text": [
      "[0.88374956 0.89998351 0.91062402]\n"
     ]
    }
   ],
   "source": [
    "scores_rf = cross_val_score(rf, X_train, y_train, cv=3)\n",
    "print(scores_rf)"
   ]
  },
  {
   "cell_type": "code",
   "execution_count": 116,
   "metadata": {},
   "outputs": [
    {
     "name": "stdout",
     "output_type": "stream",
     "text": [
      "Accuracy: 0.90 (+/- 0.03)\n"
     ]
    }
   ],
   "source": [
    "#Mean score and confidence interval\n",
    "print(\"Accuracy: %0.2f (+/- %0.2f)\" % (scores_rf.mean(), scores.std() * 2))"
   ]
  },
  {
   "cell_type": "code",
   "execution_count": 117,
   "metadata": {},
   "outputs": [
    {
     "data": {
      "text/plain": [
       "array([11.6, 16.1, 17.3,  2. , 10.9,  1.8,  6.9, 18.6, 17. ,  6.1,  7.1,\n",
       "       14.2,  1.1,  3.3, 13.3, 16.5,  9. , 11.6, 18.8, 14.5,  6.2, 15.9,\n",
       "       19. , 11.6,  8.1, 15. , 12.5,  4.8, 17.2, 12.5, 15.1, 14.4, 15.9,\n",
       "       14.4,  9.2, 11.6, 19.3, 14.2, 14.5,  5.4, 18.8, 16.8, 14.7, 12.8,\n",
       "        4.2,  2.3, 17.4, 13.7,  5.1, 11.3, 15.2,  5. ,  6.8, 12.6,  7.4,\n",
       "       13. , 17.2, 17.1,  9.6,  4.4, 14.4, 15.7,  7.2, 15.1,  4.5,  6. ,\n",
       "        5.4,  8.1,  3.8, 11.2, 10.5,  2.3,  6.3, 15.2, 15.2, 15.4, 12.2,\n",
       "        4.4, 11.3,  9.3, 18.9,  3.1,  3.1, 14.7, 18.3,  3. , 17.7, 17.2,\n",
       "        6.7,  4.1, 16.9,  8.8, 17.4, 19.4, 12.5,  2.8, 14.7, 18.2, 11.3,\n",
       "       16.5,  5.6, 10.7, 18.2, 12.5, 13.6, 11.7, 17.5,  9.9, 12.6, 12. ,\n",
       "       16.1,  4.4,  4.3,  2.4,  4.3, 13.4, 12. ,  7.5,  6.9, 11.7,  6.6,\n",
       "        6. ,  6.5,  6.1, 11.3,  6.6, 10. , 14.1, 10.2, 17.8,  9.6,  5.3,\n",
       "       12.2, 18. , 18.2,  5.8,  2.9, 11.7,  7.4, 14.7, 15.2, 14.9,  4.9])"
      ]
     },
     "execution_count": 117,
     "metadata": {},
     "output_type": "execute_result"
    }
   ],
   "source": [
    "predictions_rf"
   ]
  },
  {
   "cell_type": "code",
   "execution_count": 118,
   "metadata": {},
   "outputs": [
    {
     "data": {
      "text/plain": [
       "1.0"
      ]
     },
     "execution_count": 118,
     "metadata": {},
     "output_type": "execute_result"
    }
   ],
   "source": [
    "from sklearn.tree import DecisionTreeRegressor\n",
    "dt=DecisionTreeRegressor()\n",
    "dt.fit(X_train, y_train)\n",
    "predictions_dt = cross_val_predict(dt, X_test, y_test, cv = 3)\n",
    "dt.score(X_train, y_train)"
   ]
  },
  {
   "cell_type": "code",
   "execution_count": 119,
   "metadata": {},
   "outputs": [
    {
     "name": "stdout",
     "output_type": "stream",
     "text": [
      "[0.87168592 0.84524175 0.84876232]\n"
     ]
    }
   ],
   "source": [
    "scores_dt = cross_val_score(dt, X_train, y_train, cv=3)\n",
    "print(scores_dt)"
   ]
  },
  {
   "cell_type": "code",
   "execution_count": 120,
   "metadata": {},
   "outputs": [
    {
     "name": "stdout",
     "output_type": "stream",
     "text": [
      "Accuracy: 0.86 (+/- 0.03)\n"
     ]
    }
   ],
   "source": [
    "#Mean score and confidence interval\n",
    "print(\"Accuracy: %0.2f (+/- %0.2f)\" % (scores_dt.mean(), scores.std() * 2))"
   ]
  },
  {
   "cell_type": "code",
   "execution_count": 121,
   "metadata": {},
   "outputs": [
    {
     "data": {
      "text/plain": [
       "array([ 8., 15., 19.,  2.,  8.,  2.,  5., 18., 19.,  6.,  9., 15.,  2.,\n",
       "        2., 12., 18.,  7., 10., 20., 16.,  5., 14., 19., 14.,  9., 16.,\n",
       "       11.,  5., 13.,  9., 14., 16., 18., 13.,  8., 13., 19., 16., 16.,\n",
       "        2., 19., 16., 16., 13.,  5.,  3., 18., 15.,  7., 12., 11.,  1.,\n",
       "        7., 13.,  8.,  8., 14., 18., 11.,  3., 16., 15.,  4., 14.,  3.,\n",
       "        3.,  7., 11.,  3., 12.,  8.,  5.,  7., 16., 16., 15., 14.,  5.,\n",
       "       10.,  9., 19.,  1.,  1., 17., 20.,  5., 16., 16., 11.,  1., 16.,\n",
       "       11., 20., 19.,  8.,  3.,  7., 20., 10., 13.,  6.,  7., 19., 14.,\n",
       "       13., 11., 20., 13., 14., 14., 20.,  5.,  3.,  2.,  5., 14.,  7.,\n",
       "        8.,  7., 14.,  6.,  8.,  5.,  5., 14.,  8., 11., 13., 12., 19.,\n",
       "       13.,  4., 12., 19., 18.,  8.,  2., 14.,  5., 13., 12., 13.,  5.])"
      ]
     },
     "execution_count": 121,
     "metadata": {},
     "output_type": "execute_result"
    }
   ],
   "source": [
    "predictions_dt"
   ]
  },
  {
   "cell_type": "markdown",
   "metadata": {},
   "source": [
    "<h3>Observations</h3>"
   ]
  },
  {
   "cell_type": "markdown",
   "metadata": {},
   "source": [
    "After testing a few models, we can conclude that the best model to be used would be the the random forrest which gives us an mean accuracy of 90%."
   ]
  }
 ],
 "metadata": {
  "kernelspec": {
   "display_name": "Python 3",
   "language": "python",
   "name": "python3"
  },
  "language_info": {
   "codemirror_mode": {
    "name": "ipython",
    "version": 3
   },
   "file_extension": ".py",
   "mimetype": "text/x-python",
   "name": "python",
   "nbconvert_exporter": "python",
   "pygments_lexer": "ipython3",
   "version": "3.7.3"
  }
 },
 "nbformat": 4,
 "nbformat_minor": 4
}
