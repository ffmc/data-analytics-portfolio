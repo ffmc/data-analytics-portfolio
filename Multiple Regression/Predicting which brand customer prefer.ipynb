{
 "cells": [
  {
   "cell_type": "markdown",
   "metadata": {},
   "source": [
    "<b>Problem explained</b>\n",
    "<br>BlackWell ELectronics wanted to understand what to understand which computer manufacturer brand it’s customers liked more, if Sony or Acer.</br>\n",
    "In that sense, they have conducted a survey which asked that question amongst other things, like age, level of education, salary, etc.\n",
    "Unfortunately many customers skipped the most important question, and there’s where we have conducted a Linear Regression with two models to predict the those that were left unwersered. \n"
   ]
  },
  {
   "cell_type": "code",
   "execution_count": null,
   "metadata": {},
   "outputs": [],
   "source": [
    "library(caret)"
   ]
  },
  {
   "cell_type": "code",
   "execution_count": 15,
   "metadata": {},
   "outputs": [],
   "source": [
    "#Load Data\n",
    "completesurvey <- read.csv('C:/Users/Francisco Cardoso/Documents/UT Data Analytics/2Predicting Customer Preferences/Task 2/task2/CompleteResponses.csv',header = TRUE)"
   ]
  },
  {
   "cell_type": "code",
   "execution_count": 49,
   "metadata": {},
   "outputs": [],
   "source": [
    "#Load Data\n",
    "incompletesurvey <- read.csv('C:/Users/Francisco Cardoso/Documents/UT Data Analytics/2Predicting Customer Preferences/Task 2/task2/SurveyIncomplete.csv',header = TRUE)"
   ]
  },
  {
   "cell_type": "markdown",
   "metadata": {},
   "source": [
    "<b>Data Exploration and Data Cleaning</b>"
   ]
  },
  {
   "cell_type": "code",
   "execution_count": 16,
   "metadata": {},
   "outputs": [
    {
     "data": {
      "text/html": [
       "<table>\n",
       "<caption>A data.frame: 6 × 7</caption>\n",
       "<thead>\n",
       "\t<tr><th scope=col>salary</th><th scope=col>age</th><th scope=col>elevel</th><th scope=col>car</th><th scope=col>zipcode</th><th scope=col>credit</th><th scope=col>brand</th></tr>\n",
       "\t<tr><th scope=col>&lt;dbl&gt;</th><th scope=col>&lt;int&gt;</th><th scope=col>&lt;int&gt;</th><th scope=col>&lt;int&gt;</th><th scope=col>&lt;int&gt;</th><th scope=col>&lt;dbl&gt;</th><th scope=col>&lt;int&gt;</th></tr>\n",
       "</thead>\n",
       "<tbody>\n",
       "\t<tr><td>119806.54</td><td>45</td><td>0</td><td>14</td><td>4</td><td>442037.71</td><td>0</td></tr>\n",
       "\t<tr><td>106880.48</td><td>63</td><td>1</td><td>11</td><td>6</td><td> 45007.18</td><td>1</td></tr>\n",
       "\t<tr><td> 78020.75</td><td>23</td><td>0</td><td>15</td><td>2</td><td> 48795.32</td><td>0</td></tr>\n",
       "\t<tr><td> 63689.94</td><td>51</td><td>3</td><td> 6</td><td>5</td><td> 40888.88</td><td>1</td></tr>\n",
       "\t<tr><td> 50873.62</td><td>20</td><td>3</td><td>14</td><td>4</td><td>352951.50</td><td>0</td></tr>\n",
       "\t<tr><td>130812.74</td><td>56</td><td>3</td><td>14</td><td>3</td><td>135943.02</td><td>1</td></tr>\n",
       "</tbody>\n",
       "</table>\n"
      ],
      "text/latex": [
       "A data.frame: 6 × 7\n",
       "\\begin{tabular}{r|lllllll}\n",
       " salary & age & elevel & car & zipcode & credit & brand\\\\\n",
       " <dbl> & <int> & <int> & <int> & <int> & <dbl> & <int>\\\\\n",
       "\\hline\n",
       "\t 119806.54 & 45 & 0 & 14 & 4 & 442037.71 & 0\\\\\n",
       "\t 106880.48 & 63 & 1 & 11 & 6 &  45007.18 & 1\\\\\n",
       "\t  78020.75 & 23 & 0 & 15 & 2 &  48795.32 & 0\\\\\n",
       "\t  63689.94 & 51 & 3 &  6 & 5 &  40888.88 & 1\\\\\n",
       "\t  50873.62 & 20 & 3 & 14 & 4 & 352951.50 & 0\\\\\n",
       "\t 130812.74 & 56 & 3 & 14 & 3 & 135943.02 & 1\\\\\n",
       "\\end{tabular}\n"
      ],
      "text/markdown": [
       "\n",
       "A data.frame: 6 × 7\n",
       "\n",
       "| salary &lt;dbl&gt; | age &lt;int&gt; | elevel &lt;int&gt; | car &lt;int&gt; | zipcode &lt;int&gt; | credit &lt;dbl&gt; | brand &lt;int&gt; |\n",
       "|---|---|---|---|---|---|---|\n",
       "| 119806.54 | 45 | 0 | 14 | 4 | 442037.71 | 0 |\n",
       "| 106880.48 | 63 | 1 | 11 | 6 |  45007.18 | 1 |\n",
       "|  78020.75 | 23 | 0 | 15 | 2 |  48795.32 | 0 |\n",
       "|  63689.94 | 51 | 3 |  6 | 5 |  40888.88 | 1 |\n",
       "|  50873.62 | 20 | 3 | 14 | 4 | 352951.50 | 0 |\n",
       "| 130812.74 | 56 | 3 | 14 | 3 | 135943.02 | 1 |\n",
       "\n"
      ],
      "text/plain": [
       "  salary    age elevel car zipcode credit    brand\n",
       "1 119806.54 45  0      14  4       442037.71 0    \n",
       "2 106880.48 63  1      11  6        45007.18 1    \n",
       "3  78020.75 23  0      15  2        48795.32 0    \n",
       "4  63689.94 51  3       6  5        40888.88 1    \n",
       "5  50873.62 20  3      14  4       352951.50 0    \n",
       "6 130812.74 56  3      14  3       135943.02 1    "
      ]
     },
     "metadata": {},
     "output_type": "display_data"
    }
   ],
   "source": [
    "head(completesurvey)"
   ]
  },
  {
   "cell_type": "code",
   "execution_count": 17,
   "metadata": {},
   "outputs": [
    {
     "name": "stdout",
     "output_type": "stream",
     "text": [
      "'data.frame':\t9898 obs. of  7 variables:\n",
      " $ salary : num  119807 106880 78021 63690 50874 ...\n",
      " $ age    : int  45 63 23 51 20 56 24 62 29 41 ...\n",
      " $ elevel : int  0 1 0 3 3 3 4 3 4 1 ...\n",
      " $ car    : int  14 11 15 6 14 14 8 3 17 5 ...\n",
      " $ zipcode: int  4 6 2 5 4 3 5 0 0 4 ...\n",
      " $ credit : num  442038 45007 48795 40889 352951 ...\n",
      " $ brand  : int  0 1 0 1 0 1 1 1 0 1 ...\n"
     ]
    }
   ],
   "source": [
    "str(completesurvey)"
   ]
  },
  {
   "cell_type": "code",
   "execution_count": 18,
   "metadata": {},
   "outputs": [
    {
     "data": {
      "text/plain": [
       "     salary            age            elevel           car       \n",
       " Min.   : 20000   Min.   :20.00   Min.   :0.000   Min.   : 1.00  \n",
       " 1st Qu.: 52082   1st Qu.:35.00   1st Qu.:1.000   1st Qu.: 6.00  \n",
       " Median : 84950   Median :50.00   Median :2.000   Median :11.00  \n",
       " Mean   : 84871   Mean   :49.78   Mean   :1.983   Mean   :10.52  \n",
       " 3rd Qu.:117162   3rd Qu.:65.00   3rd Qu.:3.000   3rd Qu.:15.75  \n",
       " Max.   :150000   Max.   :80.00   Max.   :4.000   Max.   :20.00  \n",
       "    zipcode          credit           brand       \n",
       " Min.   :0.000   Min.   :     0   Min.   :0.0000  \n",
       " 1st Qu.:2.000   1st Qu.:120807   1st Qu.:0.0000  \n",
       " Median :4.000   Median :250607   Median :1.0000  \n",
       " Mean   :4.041   Mean   :249176   Mean   :0.6217  \n",
       " 3rd Qu.:6.000   3rd Qu.:374640   3rd Qu.:1.0000  \n",
       " Max.   :8.000   Max.   :500000   Max.   :1.0000  "
      ]
     },
     "metadata": {},
     "output_type": "display_data"
    }
   ],
   "source": [
    "summary(completesurvey)"
   ]
  },
  {
   "cell_type": "code",
   "execution_count": 19,
   "metadata": {},
   "outputs": [
    {
     "data": {
      "text/html": [
       "0"
      ],
      "text/latex": [
       "0"
      ],
      "text/markdown": [
       "0"
      ],
      "text/plain": [
       "[1] 0"
      ]
     },
     "metadata": {},
     "output_type": "display_data"
    }
   ],
   "source": [
    "sum(is.na(completesurvey))"
   ]
  },
  {
   "cell_type": "code",
   "execution_count": 21,
   "metadata": {},
   "outputs": [],
   "source": [
    "completesurvey$car <- as.factor(completesurvey$car)\n",
    "completesurvey$brand <- as.factor(completesurvey$brand)\n",
    "completesurvey$zipcode <- as.factor(completesurvey$zipcode)\n",
    "completesurvey$elevel <- as.ordered(completesurvey$elevel)"
   ]
  },
  {
   "cell_type": "code",
   "execution_count": 22,
   "metadata": {},
   "outputs": [
    {
     "name": "stdout",
     "output_type": "stream",
     "text": [
      "'data.frame':\t9898 obs. of  7 variables:\n",
      " $ salary : num  119807 106880 78021 63690 50874 ...\n",
      " $ age    : int  45 63 23 51 20 56 24 62 29 41 ...\n",
      " $ elevel : Ord.factor w/ 5 levels \"0\"<\"1\"<\"2\"<\"3\"<..: 1 2 1 4 4 4 5 4 5 2 ...\n",
      " $ car    : Factor w/ 20 levels \"1\",\"2\",\"3\",\"4\",..: 14 11 15 6 14 14 8 3 17 5 ...\n",
      " $ zipcode: Factor w/ 9 levels \"0\",\"1\",\"2\",\"3\",..: 5 7 3 6 5 4 6 1 1 5 ...\n",
      " $ credit : num  442038 45007 48795 40889 352951 ...\n",
      " $ brand  : Factor w/ 2 levels \"0\",\"1\": 1 2 1 2 1 2 2 2 1 2 ...\n"
     ]
    }
   ],
   "source": [
    "str(completesurvey)"
   ]
  },
  {
   "cell_type": "markdown",
   "metadata": {},
   "source": [
    "<b>Create a Decision Tree C5.0 model</b>"
   ]
  },
  {
   "cell_type": "code",
   "execution_count": null,
   "metadata": {},
   "outputs": [],
   "source": [
    "#load library and set seed\n",
    "library(caret) \n",
    "set.seed(998) "
   ]
  },
  {
   "cell_type": "code",
   "execution_count": 24,
   "metadata": {},
   "outputs": [],
   "source": [
    "#create a 20% sample of the data\n",
    "completesurveysample<- completesurvey[sample(1:nrow(completesurvey), 2000,replace=FALSE),] "
   ]
  },
  {
   "cell_type": "code",
   "execution_count": 33,
   "metadata": {},
   "outputs": [],
   "source": [
    "#define an 75%/25% train/test split of the dataset\n",
    "inTraining <- createDataPartition(completesurveysample$brand, p = .75, list = FALSE)\n",
    "training <- completesurveysample[inTraining,]\n",
    "testing <- completesurveysample[-inTraining,]"
   ]
  },
  {
   "cell_type": "code",
   "execution_count": 35,
   "metadata": {},
   "outputs": [],
   "source": [
    "#10 fold cross validation\n",
    "fitControl <- trainControl(method = \"repeatedcv\", number = 10, repeats = 1)"
   ]
  },
  {
   "cell_type": "code",
   "execution_count": 36,
   "metadata": {},
   "outputs": [],
   "source": [
    "#train C 5.0 with a tuneLenght = 1 \n",
    "C5.0 <- train(brand~., data = training, method = \"C5.0\", trControl=fitControl, tuneLength = 1)"
   ]
  },
  {
   "cell_type": "code",
   "execution_count": 37,
   "metadata": {},
   "outputs": [
    {
     "data": {
      "text/plain": [
       "C5.0 \n",
       "\n",
       "1501 samples\n",
       "   6 predictor\n",
       "   2 classes: '0', '1' \n",
       "\n",
       "No pre-processing\n",
       "Resampling: Cross-Validated (10 fold, repeated 1 times) \n",
       "Summary of sample sizes: 1352, 1351, 1352, 1351, 1351, 1350, ... \n",
       "Resampling results across tuning parameters:\n",
       "\n",
       "  model  winnow  Accuracy   Kappa    \n",
       "  rules  FALSE   0.8367431  0.6531439\n",
       "  rules   TRUE   0.8546728  0.6984464\n",
       "  tree   FALSE   0.8240853  0.6227233\n",
       "  tree    TRUE   0.8453439  0.6764647\n",
       "\n",
       "Tuning parameter 'trials' was held constant at a value of 1\n",
       "Accuracy was used to select the optimal model using the largest value.\n",
       "The final values used for the model were trials = 1, model = rules and winnow\n",
       " = TRUE."
      ]
     },
     "metadata": {},
     "output_type": "display_data"
    }
   ],
   "source": [
    "#training results\n",
    "C5.0"
   ]
  },
  {
   "cell_type": "code",
   "execution_count": 38,
   "metadata": {},
   "outputs": [
    {
     "name": "stdout",
     "output_type": "stream",
     "text": [
      "C5.0 variable importance\n",
      "\n",
      "  only 20 most important variables shown (out of 34)\n",
      "\n",
      "         Overall\n",
      "salary    100.00\n",
      "age        49.97\n",
      "zipcode1    7.46\n",
      "zipcode8    6.33\n",
      "zipcode5    6.00\n",
      "car13       5.60\n",
      "zipcode7    5.60\n",
      "elevel.C    1.93\n",
      "car19       1.93\n",
      "car14       0.87\n",
      "elevel.L    0.00\n",
      "car18       0.00\n",
      "car4        0.00\n",
      "car3        0.00\n",
      "car2        0.00\n",
      "car5        0.00\n",
      "zipcode3    0.00\n",
      "credit      0.00\n",
      "elevel.Q    0.00\n",
      "zipcode6    0.00\n"
     ]
    }
   ],
   "source": [
    "#Evaluate the importance of each varaible\n",
    "importanceC5.0 <- varImp(C5.0,scale=FALSE) #estimate variable importance of the model\n",
    "print(importanceC5.0) "
   ]
  },
  {
   "cell_type": "code",
   "execution_count": 39,
   "metadata": {},
   "outputs": [
    {
     "data": {
      "image/png": "[encoded data removed]",
      "text/plain": [
       "plot without title"
      ]
     },
     "metadata": {
      "image/png": {
       "height": 420,
       "width": 420
      },
      "text/plain": {
       "height": 420,
       "width": 420
      }
     },
     "output_type": "display_data"
    }
   ],
   "source": [
    "#plot importance\n",
    "plot(importanceC5.0) "
   ]
  },
  {
   "cell_type": "markdown",
   "metadata": {},
   "source": [
    "<b> Create Random Forest with Manual Grid </b>"
   ]
  },
  {
   "cell_type": "code",
   "execution_count": 41,
   "metadata": {},
   "outputs": [],
   "source": [
    "set.seed(998)"
   ]
  },
  {
   "cell_type": "code",
   "execution_count": 42,
   "metadata": {},
   "outputs": [
    {
     "data": {
      "text/plain": [
       "   user  system elapsed \n",
       "  75.19    1.01   76.72 "
      ]
     },
     "metadata": {},
     "output_type": "display_data"
    }
   ],
   "source": [
    "#dataframe for manual tuning of mtry\n",
    "rfGrid <- expand.grid(mtry=c(1,2,3,4,5))\n",
    "\n",
    "#train Random Forest Regression model\n",
    "system.time(rfFitm1 <- train(brand~., data = training, method = \"rf\", trControl=fitControl, tuneGrid=rfGrid))\n"
   ]
  },
  {
   "cell_type": "code",
   "execution_count": 44,
   "metadata": {},
   "outputs": [
    {
     "data": {
      "text/plain": [
       "Random Forest \n",
       "\n",
       "1501 samples\n",
       "   6 predictor\n",
       "   2 classes: '0', '1' \n",
       "\n",
       "No pre-processing\n",
       "Resampling: Cross-Validated (10 fold, repeated 1 times) \n",
       "Summary of sample sizes: 1351, 1350, 1351, 1351, 1350, 1350, ... \n",
       "Resampling results across tuning parameters:\n",
       "\n",
       "  mtry  Accuracy   Kappa     \n",
       "  1     0.6235872  0.00000000\n",
       "  2     0.6415342  0.07158351\n",
       "  3     0.7514790  0.42789508\n",
       "  4     0.7974491  0.54967084\n",
       "  5     0.8354454  0.64064102\n",
       "\n",
       "Accuracy was used to select the optimal model using the largest value.\n",
       "The final value used for the model was mtry = 5."
      ]
     },
     "metadata": {},
     "output_type": "display_data"
    }
   ],
   "source": [
    "#training results\n",
    "rfFitm1"
   ]
  },
  {
   "cell_type": "markdown",
   "metadata": {},
   "source": [
    "The model as an Accuracy of 83% and Kappa of 64% for the mtry = 5"
   ]
  },
  {
   "cell_type": "code",
   "execution_count": 45,
   "metadata": {},
   "outputs": [],
   "source": [
    "#estimate variable importance of the model\n",
    "importancefFitm1 <- varImp(rfFitm1,scale=FALSE)"
   ]
  },
  {
   "cell_type": "code",
   "execution_count": 56,
   "metadata": {},
   "outputs": [],
   "source": [
    "#Adapt our testing data as our trainning data\n",
    "incompletesurvey$car <- as.factor(incompletesurvey$car)\n",
    "incompletesurvey$brand <- as.factor(incompletesurvey$brand)\n",
    "incompletesurvey$zipcode <- as.factor(incompletesurvey$zipcode)\n",
    "incompletesurvey$elevel <- as.ordered(incompletesurvey$elevel)"
   ]
  },
  {
   "cell_type": "code",
   "execution_count": 57,
   "metadata": {},
   "outputs": [
    {
     "data": {
      "text/html": [
       "<dl class=dl-horizontal>\n",
       "\t<dt>0</dt>\n",
       "\t\t<dd>2626</dd>\n",
       "\t<dt>1</dt>\n",
       "\t\t<dd>2374</dd>\n",
       "</dl>\n"
      ],
      "text/latex": [
       "\\begin{description*}\n",
       "\\item[0] 2626\n",
       "\\item[1] 2374\n",
       "\\end{description*}\n"
      ],
      "text/markdown": [
       "0\n",
       ":   26261\n",
       ":   2374\n",
       "\n"
      ],
      "text/plain": [
       "   0    1 \n",
       "2626 2374 "
      ]
     },
     "metadata": {},
     "output_type": "display_data"
    }
   ],
   "source": [
    "#Creates predictions with the best performing model\n",
    "predictions <- predict(C5.0, incompletesurvey)\n",
    "summary(predictions)"
   ]
  },
  {
   "cell_type": "code",
   "execution_count": 58,
   "metadata": {},
   "outputs": [
    {
     "data": {
      "image/png": "[encoded data removed]",
      "text/plain": [
       "plot without title"
      ]
     },
     "metadata": {
      "image/png": {
       "height": 420,
       "width": 420
      },
      "text/plain": {
       "height": 420,
       "width": 420
      }
     },
     "output_type": "display_data"
    }
   ],
   "source": [
    "plot(predictions)"
   ]
  },
  {
   "cell_type": "markdown",
   "metadata": {},
   "source": [
    "As seen on the graph the customers have a slight preference for Sony. "
   ]
  },
  {
   "cell_type": "markdown",
   "metadata": {},
   "source": [
    "<b> Create our model predictions and add it to the final table </b>"
   ]
  },
  {
   "cell_type": "code",
   "execution_count": 59,
   "metadata": {},
   "outputs": [
    {
     "data": {
      "text/html": [
       "<dl class=dl-horizontal>\n",
       "\t<dt>0</dt>\n",
       "\t\t<dd>2626</dd>\n",
       "\t<dt>1</dt>\n",
       "\t\t<dd>2374</dd>\n",
       "</dl>\n"
      ],
      "text/latex": [
       "\\begin{description*}\n",
       "\\item[0] 2626\n",
       "\\item[1] 2374\n",
       "\\end{description*}\n"
      ],
      "text/markdown": [
       "0\n",
       ":   26261\n",
       ":   2374\n",
       "\n"
      ],
      "text/plain": [
       "   0    1 \n",
       "2626 2374 "
      ]
     },
     "metadata": {},
     "output_type": "display_data"
    },
    {
     "data": {
      "text/plain": [
       "predictions\n",
       "   0    1 \n",
       "2626 2374 "
      ]
     },
     "metadata": {},
     "output_type": "display_data"
    },
    {
     "data": {
      "text/html": [
       "<table>\n",
       "<caption>A matrix: 5000 × 1 of type chr</caption>\n",
       "<tbody>\n",
       "\t<tr><td>1</td></tr>\n",
       "\t<tr><td>0</td></tr>\n",
       "\t<tr><td>1</td></tr>\n",
       "\t<tr><td>1</td></tr>\n",
       "\t<tr><td>1</td></tr>\n",
       "\t<tr><td>1</td></tr>\n",
       "\t<tr><td>1</td></tr>\n",
       "\t<tr><td>1</td></tr>\n",
       "\t<tr><td>1</td></tr>\n",
       "\t<tr><td>0</td></tr>\n",
       "\t<tr><td>0</td></tr>\n",
       "\t<tr><td>0</td></tr>\n",
       "\t<tr><td>0</td></tr>\n",
       "\t<tr><td>0</td></tr>\n",
       "\t<tr><td>0</td></tr>\n",
       "\t<tr><td>1</td></tr>\n",
       "\t<tr><td>0</td></tr>\n",
       "\t<tr><td>1</td></tr>\n",
       "\t<tr><td>0</td></tr>\n",
       "\t<tr><td>0</td></tr>\n",
       "\t<tr><td>0</td></tr>\n",
       "\t<tr><td>0</td></tr>\n",
       "\t<tr><td>0</td></tr>\n",
       "\t<tr><td>0</td></tr>\n",
       "\t<tr><td>1</td></tr>\n",
       "\t<tr><td>1</td></tr>\n",
       "\t<tr><td>0</td></tr>\n",
       "\t<tr><td>0</td></tr>\n",
       "\t<tr><td>1</td></tr>\n",
       "\t<tr><td>1</td></tr>\n",
       "\t<tr><td>...</td></tr>\n",
       "\t<tr><td>0</td></tr>\n",
       "\t<tr><td>1</td></tr>\n",
       "\t<tr><td>0</td></tr>\n",
       "\t<tr><td>1</td></tr>\n",
       "\t<tr><td>1</td></tr>\n",
       "\t<tr><td>0</td></tr>\n",
       "\t<tr><td>1</td></tr>\n",
       "\t<tr><td>0</td></tr>\n",
       "\t<tr><td>0</td></tr>\n",
       "\t<tr><td>0</td></tr>\n",
       "\t<tr><td>1</td></tr>\n",
       "\t<tr><td>0</td></tr>\n",
       "\t<tr><td>0</td></tr>\n",
       "\t<tr><td>1</td></tr>\n",
       "\t<tr><td>1</td></tr>\n",
       "\t<tr><td>0</td></tr>\n",
       "\t<tr><td>1</td></tr>\n",
       "\t<tr><td>1</td></tr>\n",
       "\t<tr><td>1</td></tr>\n",
       "\t<tr><td>1</td></tr>\n",
       "\t<tr><td>1</td></tr>\n",
       "\t<tr><td>1</td></tr>\n",
       "\t<tr><td>1</td></tr>\n",
       "\t<tr><td>0</td></tr>\n",
       "\t<tr><td>0</td></tr>\n",
       "\t<tr><td>0</td></tr>\n",
       "\t<tr><td>1</td></tr>\n",
       "\t<tr><td>0</td></tr>\n",
       "\t<tr><td>0</td></tr>\n",
       "\t<tr><td>0</td></tr>\n",
       "</tbody>\n",
       "</table>\n"
      ],
      "text/latex": [
       "A matrix: 5000 × 1 of type chr\n",
       "\\begin{tabular}{l}\n",
       "\t 1\\\\\n",
       "\t 0\\\\\n",
       "\t 1\\\\\n",
       "\t 1\\\\\n",
       "\t 1\\\\\n",
       "\t 1\\\\\n",
       "\t 1\\\\\n",
       "\t 1\\\\\n",
       "\t 1\\\\\n",
       "\t 0\\\\\n",
       "\t 0\\\\\n",
       "\t 0\\\\\n",
       "\t 0\\\\\n",
       "\t 0\\\\\n",
       "\t 0\\\\\n",
       "\t 1\\\\\n",
       "\t 0\\\\\n",
       "\t 1\\\\\n",
       "\t 0\\\\\n",
       "\t 0\\\\\n",
       "\t 0\\\\\n",
       "\t 0\\\\\n",
       "\t 0\\\\\n",
       "\t 0\\\\\n",
       "\t 1\\\\\n",
       "\t 1\\\\\n",
       "\t 0\\\\\n",
       "\t 0\\\\\n",
       "\t 1\\\\\n",
       "\t 1\\\\\n",
       "\t ...\\\\\n",
       "\t 0\\\\\n",
       "\t 1\\\\\n",
       "\t 0\\\\\n",
       "\t 1\\\\\n",
       "\t 1\\\\\n",
       "\t 0\\\\\n",
       "\t 1\\\\\n",
       "\t 0\\\\\n",
       "\t 0\\\\\n",
       "\t 0\\\\\n",
       "\t 1\\\\\n",
       "\t 0\\\\\n",
       "\t 0\\\\\n",
       "\t 1\\\\\n",
       "\t 1\\\\\n",
       "\t 0\\\\\n",
       "\t 1\\\\\n",
       "\t 1\\\\\n",
       "\t 1\\\\\n",
       "\t 1\\\\\n",
       "\t 1\\\\\n",
       "\t 1\\\\\n",
       "\t 1\\\\\n",
       "\t 0\\\\\n",
       "\t 0\\\\\n",
       "\t 0\\\\\n",
       "\t 1\\\\\n",
       "\t 0\\\\\n",
       "\t 0\\\\\n",
       "\t 0\\\\\n",
       "\\end{tabular}\n"
      ],
      "text/markdown": [
       "\n",
       "A matrix: 5000 × 1 of type chr\n",
       "\n",
       "| 1 |\n",
       "| 0 |\n",
       "| 1 |\n",
       "| 1 |\n",
       "| 1 |\n",
       "| 1 |\n",
       "| 1 |\n",
       "| 1 |\n",
       "| 1 |\n",
       "| 0 |\n",
       "| 0 |\n",
       "| 0 |\n",
       "| 0 |\n",
       "| 0 |\n",
       "| 0 |\n",
       "| 1 |\n",
       "| 0 |\n",
       "| 1 |\n",
       "| 0 |\n",
       "| 0 |\n",
       "| 0 |\n",
       "| 0 |\n",
       "| 0 |\n",
       "| 0 |\n",
       "| 1 |\n",
       "| 1 |\n",
       "| 0 |\n",
       "| 0 |\n",
       "| 1 |\n",
       "| 1 |\n",
       "| ... |\n",
       "| 0 |\n",
       "| 1 |\n",
       "| 0 |\n",
       "| 1 |\n",
       "| 1 |\n",
       "| 0 |\n",
       "| 1 |\n",
       "| 0 |\n",
       "| 0 |\n",
       "| 0 |\n",
       "| 1 |\n",
       "| 0 |\n",
       "| 0 |\n",
       "| 1 |\n",
       "| 1 |\n",
       "| 0 |\n",
       "| 1 |\n",
       "| 1 |\n",
       "| 1 |\n",
       "| 1 |\n",
       "| 1 |\n",
       "| 1 |\n",
       "| 1 |\n",
       "| 0 |\n",
       "| 0 |\n",
       "| 0 |\n",
       "| 1 |\n",
       "| 0 |\n",
       "| 0 |\n",
       "| 0 |\n",
       "\n"
      ],
      "text/plain": [
       "      [,1]\n",
       " [1,] 1   \n",
       " [2,] 0   \n",
       " [3,] 1   \n",
       " [4,] 1   \n",
       " [5,] 1   \n",
       " [6,] 1   \n",
       " [7,] 1   \n",
       " [8,] 1   \n",
       " [9,] 1   \n",
       "[10,] 0   \n",
       "[11,] 0   \n",
       "[12,] 0   \n",
       "[13,] 0   \n",
       "[14,] 0   \n",
       "[15,] 0   \n",
       "[16,] 1   \n",
       "[17,] 0   \n",
       "[18,] 1   \n",
       "[19,] 0   \n",
       "[20,] 0   \n",
       "[21,] 0   \n",
       "[22,] 0   \n",
       "[23,] 0   \n",
       "[24,] 0   \n",
       "[25,] 1   \n",
       "[26,] 1   \n",
       "[27,] 0   \n",
       "[28,] 0   \n",
       "[29,] 1   \n",
       "[30,] 1   \n",
       "[31,] ... \n",
       "[32,] 0   \n",
       "[33,] 1   \n",
       "[34,] 0   \n",
       "[35,] 1   \n",
       "[36,] 1   \n",
       "[37,] 0   \n",
       "[38,] 1   \n",
       "[39,] 0   \n",
       "[40,] 0   \n",
       "[41,] 0   \n",
       "[42,] 1   \n",
       "[43,] 0   \n",
       "[44,] 0   \n",
       "[45,] 1   \n",
       "[46,] 1   \n",
       "[47,] 0   \n",
       "[48,] 1   \n",
       "[49,] 1   \n",
       "[50,] 1   \n",
       "[51,] 1   \n",
       "[52,] 1   \n",
       "[53,] 1   \n",
       "[54,] 1   \n",
       "[55,] 0   \n",
       "[56,] 0   \n",
       "[57,] 0   \n",
       "[58,] 1   \n",
       "[59,] 0   \n",
       "[60,] 0   \n",
       "[61,] 0   "
      ]
     },
     "metadata": {},
     "output_type": "display_data"
    }
   ],
   "source": [
    "matrix(predictions) #creates a matrix with the values from pr"
   ]
  },
  {
   "cell_type": "code",
   "execution_count": 63,
   "metadata": {},
   "outputs": [
    {
     "data": {
      "text/html": [
       "<dl class=dl-horizontal>\n",
       "\t<dt>Accuracy</dt>\n",
       "\t\t<dd>0.529</dd>\n",
       "\t<dt>Kappa</dt>\n",
       "\t\t<dd>0.00932838269556225</dd>\n",
       "</dl>\n"
      ],
      "text/latex": [
       "\\begin{description*}\n",
       "\\item[Accuracy] 0.529\n",
       "\\item[Kappa] 0.00932838269556225\n",
       "\\end{description*}\n"
      ],
      "text/markdown": [
       "Accuracy\n",
       ":   0.529Kappa\n",
       ":   0.00932838269556225\n",
       "\n"
      ],
      "text/plain": [
       "   Accuracy       Kappa \n",
       "0.529000000 0.009328383 "
      ]
     },
     "metadata": {},
     "output_type": "display_data"
    }
   ],
   "source": [
    "#Post Resample\n",
    "postResample(incompletesurvey$brand, predictionsC5.0)"
   ]
  },
  {
   "cell_type": "markdown",
   "metadata": {},
   "source": [
    "Our model;s performance on our testing data"
   ]
  },
  {
   "cell_type": "code",
   "execution_count": 65,
   "metadata": {},
   "outputs": [],
   "source": [
    "#Add column to dataframe\n",
    "predictionscolumn <- matrix(predictions) #Creates a column with the value of the predictions\n",
    "incompletesurvey[\"brandpredictions\"] <- NA #Creates the column with NAs\n",
    "incompletesurvey$brandpredictions <- predictions #Adds the values from predictions to the dataframe"
   ]
  },
  {
   "cell_type": "code",
   "execution_count": 69,
   "metadata": {},
   "outputs": [],
   "source": [
    "incompletesurveypredictions <- incompletesurvey"
   ]
  },
  {
   "cell_type": "code",
   "execution_count": 68,
   "metadata": {},
   "outputs": [],
   "source": [
    "incompletesurvey[\"brandpredictions\"] <- NA #Creates the column with NAs\n",
    "incompletesurvey$brandpredictions <- predictions #Adds the values from predictions to the dataframe"
   ]
  },
  {
   "cell_type": "code",
   "execution_count": 70,
   "metadata": {},
   "outputs": [],
   "source": [
    "write.csv(incompletesurveypredictions, file = \"incompletesurveypredictions.csv\")"
   ]
  }
 ],
 "metadata": {
  "kernelspec": {
   "display_name": "R",
   "language": "R",
   "name": "ir"
  },
  "language_info": {
   "codemirror_mode": "r",
   "file_extension": ".r",
   "mimetype": "text/x-r-source",
   "name": "R",
   "pygments_lexer": "r",
   "version": "3.6.0"
  }
 },
 "nbformat": 4,
 "nbformat_minor": 4
}
